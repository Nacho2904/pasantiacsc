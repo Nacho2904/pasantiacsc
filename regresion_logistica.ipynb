{
  "nbformat": 4,
  "nbformat_minor": 0,
  "metadata": {
    "colab": {
      "provenance": [],
      "collapsed_sections": [],
      "authorship_tag": "ABX9TyMGA6/AK3MlK4eYMkalaJUs",
      "include_colab_link": true
    },
    "kernelspec": {
      "name": "python3",
      "display_name": "Python 3"
    },
    "language_info": {
      "name": "python"
    },
    "accelerator": "GPU",
    "gpuClass": "standard"
  },
  "cells": [
    {
      "cell_type": "markdown",
      "metadata": {
        "id": "view-in-github",
        "colab_type": "text"
      },
      "source": [
        "<a href=\"https://colab.research.google.com/github/Nacho2904/pasantiacsc/blob/main/regresion_logistica.ipynb\" target=\"_parent\"><img src=\"https://colab.research.google.com/assets/colab-badge.svg\" alt=\"Open In Colab\"/></a>"
      ]
    },
    {
      "cell_type": "markdown",
      "source": [
        "#Regresión logística"
      ],
      "metadata": {
        "id": "phk93RtfVtPP"
      }
    },
    {
      "cell_type": "markdown",
      "source": [
        "## Parcialitos"
      ],
      "metadata": {
        "id": "WYks_XwOYkY_"
      }
    },
    {
      "cell_type": "markdown",
      "source": [
        "- 1) Usando \"loss=tf.keras.losses.BinaryCrossentropy(from_logits=True)\", programar\n",
        "con keras el GD. Indicar el learning rate, el patience del early stopping y el riesgo empírico finalmente alcanzado."
      ],
      "metadata": {
        "id": "AisPkDc1Yq7d"
      }
    },
    {
      "cell_type": "code",
      "source": [
        "!wget https://raw.githubusercontent.com/CSC-CONICET/CURSO-LEARNING1/main/datasets/parcialitos.txt"
      ],
      "metadata": {
        "colab": {
          "base_uri": "https://localhost:8080/"
        },
        "id": "Zitnii7yWva8",
        "outputId": "641d60da-8cd0-4ab6-cb20-c6cffe97de94"
      },
      "execution_count": 85,
      "outputs": [
        {
          "output_type": "stream",
          "name": "stdout",
          "text": [
            "--2022-09-06 16:01:06--  https://raw.githubusercontent.com/CSC-CONICET/CURSO-LEARNING1/main/datasets/parcialitos.txt\n",
            "Resolving raw.githubusercontent.com (raw.githubusercontent.com)... 185.199.108.133, 185.199.109.133, 185.199.110.133, ...\n",
            "Connecting to raw.githubusercontent.com (raw.githubusercontent.com)|185.199.108.133|:443... connected.\n",
            "HTTP request sent, awaiting response... 200 OK\n",
            "Length: 3775 (3.7K) [text/plain]\n",
            "Saving to: ‘parcialitos.txt.2’\n",
            "\n",
            "\rparcialitos.txt.2     0%[                    ]       0  --.-KB/s               \rparcialitos.txt.2   100%[===================>]   3.69K  --.-KB/s    in 0s      \n",
            "\n",
            "2022-09-06 16:01:06 (61.1 MB/s) - ‘parcialitos.txt.2’ saved [3775/3775]\n",
            "\n"
          ]
        }
      ]
    },
    {
      "cell_type": "code",
      "execution_count": 142,
      "metadata": {
        "colab": {
          "base_uri": "https://localhost:8080/",
          "height": 1000
        },
        "id": "CGno0gystxNo",
        "outputId": "8f054fb7-689a-4786-d0c3-8ea4b1bc6d20"
      },
      "outputs": [
        {
          "output_type": "execute_result",
          "data": {
            "text/plain": [
              "    nota_primer_parcialito  nota_segundo_parcialito  aprobo\n",
              "0                34.623660                78.024693       0\n",
              "1                30.286711                43.894998       0\n",
              "2                35.847409                72.902198       0\n",
              "5                45.083277                56.316372       0\n",
              "10               95.861555                38.225278       0\n",
              "11               75.013658                30.603263       0\n",
              "14               39.538339                76.036811       0\n",
              "17               67.946855                46.678574       0\n",
              "20               67.372028                42.838438       0\n",
              "22               50.534788                48.855812       0\n",
              "23               34.212061                44.209529       0\n",
              "27               93.114389                38.800670       0\n",
              "28               61.830206                50.256108       0\n",
              "29               38.785804                64.995681       0\n",
              "32               52.107980                63.127624       0\n",
              "34               40.236894                71.167748       0\n",
              "35               54.635106                52.213886       0\n",
              "36               33.915500                98.869436       0\n",
              "38               74.789253                41.573415       0\n",
              "39               34.183640                75.237720       0\n",
              "41               51.547720                46.856290       0\n",
              "43               82.368754                40.618255       0\n",
              "44               51.047752                45.822701       0\n",
              "45               62.222676                52.060992       0\n",
              "53               34.524514                60.396342       0\n",
              "54               50.286496                49.804539       0\n",
              "55               49.586677                59.808951       0\n",
              "57               32.577200                95.598548       0\n",
              "61               35.286113                47.020514       0\n",
              "62               56.253817                39.261473       0\n",
              "63               30.058822                49.592974       0\n",
              "64               44.668262                66.450086       0\n",
              "65               66.560894                41.092098       0\n",
              "67               49.072563                51.883212       0\n",
              "70               32.722833                43.307173       0\n",
              "78               60.455556                42.508409       0\n",
              "79               82.226662                42.719879       0\n",
              "86               42.075455                78.844786       0\n",
              "89               52.348004                60.769505       0\n",
              "92               55.482161                35.570703       0"
            ],
            "text/html": [
              "\n",
              "  <div id=\"df-47d297b5-e84e-44f1-8fe9-d955574e24d1\">\n",
              "    <div class=\"colab-df-container\">\n",
              "      <div>\n",
              "<style scoped>\n",
              "    .dataframe tbody tr th:only-of-type {\n",
              "        vertical-align: middle;\n",
              "    }\n",
              "\n",
              "    .dataframe tbody tr th {\n",
              "        vertical-align: top;\n",
              "    }\n",
              "\n",
              "    .dataframe thead th {\n",
              "        text-align: right;\n",
              "    }\n",
              "</style>\n",
              "<table border=\"1\" class=\"dataframe\">\n",
              "  <thead>\n",
              "    <tr style=\"text-align: right;\">\n",
              "      <th></th>\n",
              "      <th>nota_primer_parcialito</th>\n",
              "      <th>nota_segundo_parcialito</th>\n",
              "      <th>aprobo</th>\n",
              "    </tr>\n",
              "  </thead>\n",
              "  <tbody>\n",
              "    <tr>\n",
              "      <th>0</th>\n",
              "      <td>34.623660</td>\n",
              "      <td>78.024693</td>\n",
              "      <td>0</td>\n",
              "    </tr>\n",
              "    <tr>\n",
              "      <th>1</th>\n",
              "      <td>30.286711</td>\n",
              "      <td>43.894998</td>\n",
              "      <td>0</td>\n",
              "    </tr>\n",
              "    <tr>\n",
              "      <th>2</th>\n",
              "      <td>35.847409</td>\n",
              "      <td>72.902198</td>\n",
              "      <td>0</td>\n",
              "    </tr>\n",
              "    <tr>\n",
              "      <th>5</th>\n",
              "      <td>45.083277</td>\n",
              "      <td>56.316372</td>\n",
              "      <td>0</td>\n",
              "    </tr>\n",
              "    <tr>\n",
              "      <th>10</th>\n",
              "      <td>95.861555</td>\n",
              "      <td>38.225278</td>\n",
              "      <td>0</td>\n",
              "    </tr>\n",
              "    <tr>\n",
              "      <th>11</th>\n",
              "      <td>75.013658</td>\n",
              "      <td>30.603263</td>\n",
              "      <td>0</td>\n",
              "    </tr>\n",
              "    <tr>\n",
              "      <th>14</th>\n",
              "      <td>39.538339</td>\n",
              "      <td>76.036811</td>\n",
              "      <td>0</td>\n",
              "    </tr>\n",
              "    <tr>\n",
              "      <th>17</th>\n",
              "      <td>67.946855</td>\n",
              "      <td>46.678574</td>\n",
              "      <td>0</td>\n",
              "    </tr>\n",
              "    <tr>\n",
              "      <th>20</th>\n",
              "      <td>67.372028</td>\n",
              "      <td>42.838438</td>\n",
              "      <td>0</td>\n",
              "    </tr>\n",
              "    <tr>\n",
              "      <th>22</th>\n",
              "      <td>50.534788</td>\n",
              "      <td>48.855812</td>\n",
              "      <td>0</td>\n",
              "    </tr>\n",
              "    <tr>\n",
              "      <th>23</th>\n",
              "      <td>34.212061</td>\n",
              "      <td>44.209529</td>\n",
              "      <td>0</td>\n",
              "    </tr>\n",
              "    <tr>\n",
              "      <th>27</th>\n",
              "      <td>93.114389</td>\n",
              "      <td>38.800670</td>\n",
              "      <td>0</td>\n",
              "    </tr>\n",
              "    <tr>\n",
              "      <th>28</th>\n",
              "      <td>61.830206</td>\n",
              "      <td>50.256108</td>\n",
              "      <td>0</td>\n",
              "    </tr>\n",
              "    <tr>\n",
              "      <th>29</th>\n",
              "      <td>38.785804</td>\n",
              "      <td>64.995681</td>\n",
              "      <td>0</td>\n",
              "    </tr>\n",
              "    <tr>\n",
              "      <th>32</th>\n",
              "      <td>52.107980</td>\n",
              "      <td>63.127624</td>\n",
              "      <td>0</td>\n",
              "    </tr>\n",
              "    <tr>\n",
              "      <th>34</th>\n",
              "      <td>40.236894</td>\n",
              "      <td>71.167748</td>\n",
              "      <td>0</td>\n",
              "    </tr>\n",
              "    <tr>\n",
              "      <th>35</th>\n",
              "      <td>54.635106</td>\n",
              "      <td>52.213886</td>\n",
              "      <td>0</td>\n",
              "    </tr>\n",
              "    <tr>\n",
              "      <th>36</th>\n",
              "      <td>33.915500</td>\n",
              "      <td>98.869436</td>\n",
              "      <td>0</td>\n",
              "    </tr>\n",
              "    <tr>\n",
              "      <th>38</th>\n",
              "      <td>74.789253</td>\n",
              "      <td>41.573415</td>\n",
              "      <td>0</td>\n",
              "    </tr>\n",
              "    <tr>\n",
              "      <th>39</th>\n",
              "      <td>34.183640</td>\n",
              "      <td>75.237720</td>\n",
              "      <td>0</td>\n",
              "    </tr>\n",
              "    <tr>\n",
              "      <th>41</th>\n",
              "      <td>51.547720</td>\n",
              "      <td>46.856290</td>\n",
              "      <td>0</td>\n",
              "    </tr>\n",
              "    <tr>\n",
              "      <th>43</th>\n",
              "      <td>82.368754</td>\n",
              "      <td>40.618255</td>\n",
              "      <td>0</td>\n",
              "    </tr>\n",
              "    <tr>\n",
              "      <th>44</th>\n",
              "      <td>51.047752</td>\n",
              "      <td>45.822701</td>\n",
              "      <td>0</td>\n",
              "    </tr>\n",
              "    <tr>\n",
              "      <th>45</th>\n",
              "      <td>62.222676</td>\n",
              "      <td>52.060992</td>\n",
              "      <td>0</td>\n",
              "    </tr>\n",
              "    <tr>\n",
              "      <th>53</th>\n",
              "      <td>34.524514</td>\n",
              "      <td>60.396342</td>\n",
              "      <td>0</td>\n",
              "    </tr>\n",
              "    <tr>\n",
              "      <th>54</th>\n",
              "      <td>50.286496</td>\n",
              "      <td>49.804539</td>\n",
              "      <td>0</td>\n",
              "    </tr>\n",
              "    <tr>\n",
              "      <th>55</th>\n",
              "      <td>49.586677</td>\n",
              "      <td>59.808951</td>\n",
              "      <td>0</td>\n",
              "    </tr>\n",
              "    <tr>\n",
              "      <th>57</th>\n",
              "      <td>32.577200</td>\n",
              "      <td>95.598548</td>\n",
              "      <td>0</td>\n",
              "    </tr>\n",
              "    <tr>\n",
              "      <th>61</th>\n",
              "      <td>35.286113</td>\n",
              "      <td>47.020514</td>\n",
              "      <td>0</td>\n",
              "    </tr>\n",
              "    <tr>\n",
              "      <th>62</th>\n",
              "      <td>56.253817</td>\n",
              "      <td>39.261473</td>\n",
              "      <td>0</td>\n",
              "    </tr>\n",
              "    <tr>\n",
              "      <th>63</th>\n",
              "      <td>30.058822</td>\n",
              "      <td>49.592974</td>\n",
              "      <td>0</td>\n",
              "    </tr>\n",
              "    <tr>\n",
              "      <th>64</th>\n",
              "      <td>44.668262</td>\n",
              "      <td>66.450086</td>\n",
              "      <td>0</td>\n",
              "    </tr>\n",
              "    <tr>\n",
              "      <th>65</th>\n",
              "      <td>66.560894</td>\n",
              "      <td>41.092098</td>\n",
              "      <td>0</td>\n",
              "    </tr>\n",
              "    <tr>\n",
              "      <th>67</th>\n",
              "      <td>49.072563</td>\n",
              "      <td>51.883212</td>\n",
              "      <td>0</td>\n",
              "    </tr>\n",
              "    <tr>\n",
              "      <th>70</th>\n",
              "      <td>32.722833</td>\n",
              "      <td>43.307173</td>\n",
              "      <td>0</td>\n",
              "    </tr>\n",
              "    <tr>\n",
              "      <th>78</th>\n",
              "      <td>60.455556</td>\n",
              "      <td>42.508409</td>\n",
              "      <td>0</td>\n",
              "    </tr>\n",
              "    <tr>\n",
              "      <th>79</th>\n",
              "      <td>82.226662</td>\n",
              "      <td>42.719879</td>\n",
              "      <td>0</td>\n",
              "    </tr>\n",
              "    <tr>\n",
              "      <th>86</th>\n",
              "      <td>42.075455</td>\n",
              "      <td>78.844786</td>\n",
              "      <td>0</td>\n",
              "    </tr>\n",
              "    <tr>\n",
              "      <th>89</th>\n",
              "      <td>52.348004</td>\n",
              "      <td>60.769505</td>\n",
              "      <td>0</td>\n",
              "    </tr>\n",
              "    <tr>\n",
              "      <th>92</th>\n",
              "      <td>55.482161</td>\n",
              "      <td>35.570703</td>\n",
              "      <td>0</td>\n",
              "    </tr>\n",
              "  </tbody>\n",
              "</table>\n",
              "</div>\n",
              "      <button class=\"colab-df-convert\" onclick=\"convertToInteractive('df-47d297b5-e84e-44f1-8fe9-d955574e24d1')\"\n",
              "              title=\"Convert this dataframe to an interactive table.\"\n",
              "              style=\"display:none;\">\n",
              "        \n",
              "  <svg xmlns=\"http://www.w3.org/2000/svg\" height=\"24px\"viewBox=\"0 0 24 24\"\n",
              "       width=\"24px\">\n",
              "    <path d=\"M0 0h24v24H0V0z\" fill=\"none\"/>\n",
              "    <path d=\"M18.56 5.44l.94 2.06.94-2.06 2.06-.94-2.06-.94-.94-2.06-.94 2.06-2.06.94zm-11 1L8.5 8.5l.94-2.06 2.06-.94-2.06-.94L8.5 2.5l-.94 2.06-2.06.94zm10 10l.94 2.06.94-2.06 2.06-.94-2.06-.94-.94-2.06-.94 2.06-2.06.94z\"/><path d=\"M17.41 7.96l-1.37-1.37c-.4-.4-.92-.59-1.43-.59-.52 0-1.04.2-1.43.59L10.3 9.45l-7.72 7.72c-.78.78-.78 2.05 0 2.83L4 21.41c.39.39.9.59 1.41.59.51 0 1.02-.2 1.41-.59l7.78-7.78 2.81-2.81c.8-.78.8-2.07 0-2.86zM5.41 20L4 18.59l7.72-7.72 1.47 1.35L5.41 20z\"/>\n",
              "  </svg>\n",
              "      </button>\n",
              "      \n",
              "  <style>\n",
              "    .colab-df-container {\n",
              "      display:flex;\n",
              "      flex-wrap:wrap;\n",
              "      gap: 12px;\n",
              "    }\n",
              "\n",
              "    .colab-df-convert {\n",
              "      background-color: #E8F0FE;\n",
              "      border: none;\n",
              "      border-radius: 50%;\n",
              "      cursor: pointer;\n",
              "      display: none;\n",
              "      fill: #1967D2;\n",
              "      height: 32px;\n",
              "      padding: 0 0 0 0;\n",
              "      width: 32px;\n",
              "    }\n",
              "\n",
              "    .colab-df-convert:hover {\n",
              "      background-color: #E2EBFA;\n",
              "      box-shadow: 0px 1px 2px rgba(60, 64, 67, 0.3), 0px 1px 3px 1px rgba(60, 64, 67, 0.15);\n",
              "      fill: #174EA6;\n",
              "    }\n",
              "\n",
              "    [theme=dark] .colab-df-convert {\n",
              "      background-color: #3B4455;\n",
              "      fill: #D2E3FC;\n",
              "    }\n",
              "\n",
              "    [theme=dark] .colab-df-convert:hover {\n",
              "      background-color: #434B5C;\n",
              "      box-shadow: 0px 1px 3px 1px rgba(0, 0, 0, 0.15);\n",
              "      filter: drop-shadow(0px 1px 2px rgba(0, 0, 0, 0.3));\n",
              "      fill: #FFFFFF;\n",
              "    }\n",
              "  </style>\n",
              "\n",
              "      <script>\n",
              "        const buttonEl =\n",
              "          document.querySelector('#df-47d297b5-e84e-44f1-8fe9-d955574e24d1 button.colab-df-convert');\n",
              "        buttonEl.style.display =\n",
              "          google.colab.kernel.accessAllowed ? 'block' : 'none';\n",
              "\n",
              "        async function convertToInteractive(key) {\n",
              "          const element = document.querySelector('#df-47d297b5-e84e-44f1-8fe9-d955574e24d1');\n",
              "          const dataTable =\n",
              "            await google.colab.kernel.invokeFunction('convertToInteractive',\n",
              "                                                     [key], {});\n",
              "          if (!dataTable) return;\n",
              "\n",
              "          const docLinkHtml = 'Like what you see? Visit the ' +\n",
              "            '<a target=\"_blank\" href=https://colab.research.google.com/notebooks/data_table.ipynb>data table notebook</a>'\n",
              "            + ' to learn more about interactive tables.';\n",
              "          element.innerHTML = '';\n",
              "          dataTable['output_type'] = 'display_data';\n",
              "          await google.colab.output.renderOutput(dataTable, element);\n",
              "          const docLink = document.createElement('div');\n",
              "          docLink.innerHTML = docLinkHtml;\n",
              "          element.appendChild(docLink);\n",
              "        }\n",
              "      </script>\n",
              "    </div>\n",
              "  </div>\n",
              "  "
            ]
          },
          "metadata": {},
          "execution_count": 142
        }
      ],
      "source": [
        "import pandas as pd\n",
        "import numpy as np\n",
        "import tensorflow as tf\n",
        "import seaborn as sns\n",
        "import matplotlib as plt\n",
        "dataset = pd.read_table(\"parcialitos.txt\", sep=',',header=None)\n",
        "dataset.columns = [\"nota_primer_parcialito\", \"nota_segundo_parcialito\", \"aprobo\"]\n",
        "dataset[dataset[\"aprobo\"] == 0]"
      ]
    },
    {
      "cell_type": "code",
      "source": [
        "inputs = np.array(dataset[[\"nota_primer_parcialito\", \"nota_segundo_parcialito\"]])\n",
        "targets = np.array(dataset[\"aprobo\"]).reshape(len(dataset),1)\n",
        "model_parcialitos = tf.keras.Sequential()\n",
        "model_parcialitos.add(tf.keras.layers.Dense(1, input_dim=2))\n",
        "model_parcialitos.summary()"
      ],
      "metadata": {
        "colab": {
          "base_uri": "https://localhost:8080/"
        },
        "id": "ygJ4Qq5RYvXR",
        "outputId": "d5834e70-5b28-475b-e035-25667a8a2334"
      },
      "execution_count": 87,
      "outputs": [
        {
          "output_type": "stream",
          "name": "stdout",
          "text": [
            "Model: \"sequential_25\"\n",
            "_________________________________________________________________\n",
            " Layer (type)                Output Shape              Param #   \n",
            "=================================================================\n",
            " dense_25 (Dense)            (None, 1)                 3         \n",
            "                                                                 \n",
            "=================================================================\n",
            "Total params: 3\n",
            "Trainable params: 3\n",
            "Non-trainable params: 0\n",
            "_________________________________________________________________\n"
          ]
        }
      ]
    },
    {
      "cell_type": "code",
      "source": [
        "#entrenamos el modelo\n",
        "early_stop = tf.keras.callbacks.EarlyStopping(monitor='loss', patience=1)\n",
        "model_parcialitos.compile(optimizer=tf.keras.optimizers.SGD(learning_rate=0.0015),loss=tf.keras.losses.BinaryCrossentropy(from_logits=True),\n",
        "                          metrics=[\"accuracy\"])\n",
        "hist = model_parcialitos.fit(x=inputs, y=targets, batch_size = len(dataset), epochs=100000,callbacks=[early_stop]);"
      ],
      "metadata": {
        "colab": {
          "base_uri": "https://localhost:8080/"
        },
        "id": "c91cOAEQZr7K",
        "outputId": "da176a03-43b0-4e86-fe8d-2d1906a993a1"
      },
      "execution_count": 88,
      "outputs": [
        {
          "output_type": "stream",
          "name": "stdout",
          "text": [
            "Epoch 1/100000\n",
            "1/1 [==============================] - 0s 237ms/step - loss: 75.3892 - accuracy: 0.4000\n",
            "Epoch 2/100000\n",
            "1/1 [==============================] - 0s 8ms/step - loss: 69.4203 - accuracy: 0.4000\n",
            "Epoch 3/100000\n",
            "1/1 [==============================] - 0s 6ms/step - loss: 63.4514 - accuracy: 0.4000\n",
            "Epoch 4/100000\n",
            "1/1 [==============================] - 0s 10ms/step - loss: 57.4826 - accuracy: 0.4000\n",
            "Epoch 5/100000\n",
            "1/1 [==============================] - 0s 7ms/step - loss: 51.5137 - accuracy: 0.4000\n",
            "Epoch 6/100000\n",
            "1/1 [==============================] - 0s 8ms/step - loss: 45.5448 - accuracy: 0.4000\n",
            "Epoch 7/100000\n",
            "1/1 [==============================] - 0s 7ms/step - loss: 39.5759 - accuracy: 0.4000\n",
            "Epoch 8/100000\n",
            "1/1 [==============================] - 0s 13ms/step - loss: 33.6071 - accuracy: 0.4000\n",
            "Epoch 9/100000\n",
            "1/1 [==============================] - 0s 9ms/step - loss: 27.6382 - accuracy: 0.4000\n",
            "Epoch 10/100000\n",
            "1/1 [==============================] - 0s 6ms/step - loss: 21.7092 - accuracy: 0.3800\n",
            "Epoch 11/100000\n",
            "1/1 [==============================] - 0s 7ms/step - loss: 16.1852 - accuracy: 0.3800\n",
            "Epoch 12/100000\n",
            "1/1 [==============================] - 0s 9ms/step - loss: 11.5381 - accuracy: 0.3300\n",
            "Epoch 13/100000\n",
            "1/1 [==============================] - 0s 14ms/step - loss: 8.2017 - accuracy: 0.3700\n",
            "Epoch 14/100000\n",
            "1/1 [==============================] - 0s 7ms/step - loss: 6.5364 - accuracy: 0.4800\n",
            "Epoch 15/100000\n",
            "1/1 [==============================] - 0s 10ms/step - loss: 5.9427 - accuracy: 0.4900\n",
            "Epoch 16/100000\n",
            "1/1 [==============================] - 0s 7ms/step - loss: 5.5662 - accuracy: 0.5000\n",
            "Epoch 17/100000\n",
            "1/1 [==============================] - 0s 9ms/step - loss: 5.3700 - accuracy: 0.5300\n",
            "Epoch 18/100000\n",
            "1/1 [==============================] - 0s 9ms/step - loss: 5.2424 - accuracy: 0.5400\n",
            "Epoch 19/100000\n",
            "1/1 [==============================] - 0s 8ms/step - loss: 5.1355 - accuracy: 0.5500\n",
            "Epoch 20/100000\n",
            "1/1 [==============================] - 0s 8ms/step - loss: 5.0364 - accuracy: 0.5500\n",
            "Epoch 21/100000\n",
            "1/1 [==============================] - 0s 7ms/step - loss: 4.9410 - accuracy: 0.5500\n",
            "Epoch 22/100000\n",
            "1/1 [==============================] - 0s 8ms/step - loss: 4.8475 - accuracy: 0.5500\n",
            "Epoch 23/100000\n",
            "1/1 [==============================] - 0s 10ms/step - loss: 4.7552 - accuracy: 0.5500\n",
            "Epoch 24/100000\n",
            "1/1 [==============================] - 0s 10ms/step - loss: 4.6636 - accuracy: 0.5500\n",
            "Epoch 25/100000\n",
            "1/1 [==============================] - 0s 11ms/step - loss: 4.5724 - accuracy: 0.5500\n",
            "Epoch 26/100000\n",
            "1/1 [==============================] - 0s 8ms/step - loss: 4.4816 - accuracy: 0.5500\n",
            "Epoch 27/100000\n",
            "1/1 [==============================] - 0s 8ms/step - loss: 4.3910 - accuracy: 0.5500\n",
            "Epoch 28/100000\n",
            "1/1 [==============================] - 0s 11ms/step - loss: 4.3006 - accuracy: 0.5500\n",
            "Epoch 29/100000\n",
            "1/1 [==============================] - 0s 8ms/step - loss: 4.2103 - accuracy: 0.5500\n",
            "Epoch 30/100000\n",
            "1/1 [==============================] - 0s 9ms/step - loss: 4.1201 - accuracy: 0.5500\n",
            "Epoch 31/100000\n",
            "1/1 [==============================] - 0s 10ms/step - loss: 4.0301 - accuracy: 0.5500\n",
            "Epoch 32/100000\n",
            "1/1 [==============================] - 0s 11ms/step - loss: 3.9401 - accuracy: 0.5500\n",
            "Epoch 33/100000\n",
            "1/1 [==============================] - 0s 8ms/step - loss: 3.8503 - accuracy: 0.5500\n",
            "Epoch 34/100000\n",
            "1/1 [==============================] - 0s 8ms/step - loss: 3.7606 - accuracy: 0.5500\n",
            "Epoch 35/100000\n",
            "1/1 [==============================] - 0s 11ms/step - loss: 3.6711 - accuracy: 0.5500\n",
            "Epoch 36/100000\n",
            "1/1 [==============================] - 0s 6ms/step - loss: 3.5817 - accuracy: 0.5500\n",
            "Epoch 37/100000\n",
            "1/1 [==============================] - 0s 8ms/step - loss: 3.4924 - accuracy: 0.5500\n",
            "Epoch 38/100000\n",
            "1/1 [==============================] - 0s 8ms/step - loss: 3.4033 - accuracy: 0.5500\n",
            "Epoch 39/100000\n",
            "1/1 [==============================] - 0s 7ms/step - loss: 3.3144 - accuracy: 0.5500\n",
            "Epoch 40/100000\n",
            "1/1 [==============================] - 0s 7ms/step - loss: 3.2257 - accuracy: 0.5500\n",
            "Epoch 41/100000\n",
            "1/1 [==============================] - 0s 8ms/step - loss: 3.1372 - accuracy: 0.5500\n",
            "Epoch 42/100000\n",
            "1/1 [==============================] - 0s 7ms/step - loss: 3.0490 - accuracy: 0.5500\n",
            "Epoch 43/100000\n",
            "1/1 [==============================] - 0s 8ms/step - loss: 2.9610 - accuracy: 0.5500\n",
            "Epoch 44/100000\n",
            "1/1 [==============================] - 0s 9ms/step - loss: 2.8733 - accuracy: 0.5500\n",
            "Epoch 45/100000\n",
            "1/1 [==============================] - 0s 9ms/step - loss: 2.7859 - accuracy: 0.5500\n",
            "Epoch 46/100000\n",
            "1/1 [==============================] - 0s 8ms/step - loss: 2.6988 - accuracy: 0.5500\n",
            "Epoch 47/100000\n",
            "1/1 [==============================] - 0s 8ms/step - loss: 2.6121 - accuracy: 0.5500\n",
            "Epoch 48/100000\n",
            "1/1 [==============================] - 0s 8ms/step - loss: 2.5258 - accuracy: 0.5500\n",
            "Epoch 49/100000\n",
            "1/1 [==============================] - 0s 10ms/step - loss: 2.4399 - accuracy: 0.5500\n",
            "Epoch 50/100000\n",
            "1/1 [==============================] - 0s 10ms/step - loss: 2.3546 - accuracy: 0.5500\n",
            "Epoch 51/100000\n",
            "1/1 [==============================] - 0s 7ms/step - loss: 2.2697 - accuracy: 0.5500\n",
            "Epoch 52/100000\n",
            "1/1 [==============================] - 0s 9ms/step - loss: 2.1855 - accuracy: 0.5500\n",
            "Epoch 53/100000\n",
            "1/1 [==============================] - 0s 9ms/step - loss: 2.1020 - accuracy: 0.5500\n",
            "Epoch 54/100000\n",
            "1/1 [==============================] - 0s 8ms/step - loss: 2.0192 - accuracy: 0.5500\n",
            "Epoch 55/100000\n",
            "1/1 [==============================] - 0s 7ms/step - loss: 1.9372 - accuracy: 0.5500\n",
            "Epoch 56/100000\n",
            "1/1 [==============================] - 0s 10ms/step - loss: 1.8562 - accuracy: 0.5500\n",
            "Epoch 57/100000\n",
            "1/1 [==============================] - 0s 7ms/step - loss: 1.7762 - accuracy: 0.5500\n",
            "Epoch 58/100000\n",
            "1/1 [==============================] - 0s 7ms/step - loss: 1.6974 - accuracy: 0.5500\n",
            "Epoch 59/100000\n",
            "1/1 [==============================] - 0s 10ms/step - loss: 1.6199 - accuracy: 0.5500\n",
            "Epoch 60/100000\n",
            "1/1 [==============================] - 0s 7ms/step - loss: 1.5438 - accuracy: 0.5500\n",
            "Epoch 61/100000\n",
            "1/1 [==============================] - 0s 9ms/step - loss: 1.4694 - accuracy: 0.5500\n",
            "Epoch 62/100000\n",
            "1/1 [==============================] - 0s 8ms/step - loss: 1.3969 - accuracy: 0.5500\n",
            "Epoch 63/100000\n",
            "1/1 [==============================] - 0s 8ms/step - loss: 1.3264 - accuracy: 0.5500\n",
            "Epoch 64/100000\n",
            "1/1 [==============================] - 0s 7ms/step - loss: 1.2583 - accuracy: 0.5500\n",
            "Epoch 65/100000\n",
            "1/1 [==============================] - 0s 8ms/step - loss: 1.1928 - accuracy: 0.5500\n",
            "Epoch 66/100000\n",
            "1/1 [==============================] - 0s 7ms/step - loss: 1.1302 - accuracy: 0.5500\n",
            "Epoch 67/100000\n",
            "1/1 [==============================] - 0s 6ms/step - loss: 1.0709 - accuracy: 0.5500\n",
            "Epoch 68/100000\n",
            "1/1 [==============================] - 0s 10ms/step - loss: 1.0150 - accuracy: 0.5600\n",
            "Epoch 69/100000\n",
            "1/1 [==============================] - 0s 8ms/step - loss: 0.9630 - accuracy: 0.5600\n",
            "Epoch 70/100000\n",
            "1/1 [==============================] - 0s 9ms/step - loss: 0.9151 - accuracy: 0.5600\n",
            "Epoch 71/100000\n",
            "1/1 [==============================] - 0s 7ms/step - loss: 0.8715 - accuracy: 0.5700\n",
            "Epoch 72/100000\n",
            "1/1 [==============================] - 0s 7ms/step - loss: 0.8324 - accuracy: 0.5700\n",
            "Epoch 73/100000\n",
            "1/1 [==============================] - 0s 8ms/step - loss: 0.7978 - accuracy: 0.5700\n",
            "Epoch 74/100000\n",
            "1/1 [==============================] - 0s 5ms/step - loss: 0.7676 - accuracy: 0.5700\n",
            "Epoch 75/100000\n",
            "1/1 [==============================] - 0s 6ms/step - loss: 0.7418 - accuracy: 0.5800\n",
            "Epoch 76/100000\n",
            "1/1 [==============================] - 0s 5ms/step - loss: 0.7200 - accuracy: 0.5800\n",
            "Epoch 77/100000\n",
            "1/1 [==============================] - 0s 5ms/step - loss: 0.7018 - accuracy: 0.5800\n",
            "Epoch 78/100000\n",
            "1/1 [==============================] - 0s 5ms/step - loss: 0.6869 - accuracy: 0.5900\n",
            "Epoch 79/100000\n",
            "1/1 [==============================] - 0s 5ms/step - loss: 0.6748 - accuracy: 0.5900\n",
            "Epoch 80/100000\n",
            "1/1 [==============================] - 0s 5ms/step - loss: 0.6651 - accuracy: 0.6000\n",
            "Epoch 81/100000\n",
            "1/1 [==============================] - 0s 6ms/step - loss: 0.6574 - accuracy: 0.6300\n",
            "Epoch 82/100000\n",
            "1/1 [==============================] - 0s 7ms/step - loss: 0.6513 - accuracy: 0.6300\n",
            "Epoch 83/100000\n",
            "1/1 [==============================] - 0s 8ms/step - loss: 0.6466 - accuracy: 0.6600\n",
            "Epoch 84/100000\n",
            "1/1 [==============================] - 0s 8ms/step - loss: 0.6428 - accuracy: 0.6600\n",
            "Epoch 85/100000\n",
            "1/1 [==============================] - 0s 5ms/step - loss: 0.6399 - accuracy: 0.6900\n",
            "Epoch 86/100000\n",
            "1/1 [==============================] - 0s 5ms/step - loss: 0.6377 - accuracy: 0.7300\n",
            "Epoch 87/100000\n",
            "1/1 [==============================] - 0s 5ms/step - loss: 0.6359 - accuracy: 0.6900\n",
            "Epoch 88/100000\n",
            "1/1 [==============================] - 0s 6ms/step - loss: 0.6346 - accuracy: 0.6800\n",
            "Epoch 89/100000\n",
            "1/1 [==============================] - 0s 5ms/step - loss: 0.6335 - accuracy: 0.6800\n",
            "Epoch 90/100000\n",
            "1/1 [==============================] - 0s 6ms/step - loss: 0.6327 - accuracy: 0.6600\n",
            "Epoch 91/100000\n",
            "1/1 [==============================] - 0s 5ms/step - loss: 0.6321 - accuracy: 0.6600\n",
            "Epoch 92/100000\n",
            "1/1 [==============================] - 0s 5ms/step - loss: 0.6317 - accuracy: 0.6500\n",
            "Epoch 93/100000\n",
            "1/1 [==============================] - 0s 5ms/step - loss: 0.6317 - accuracy: 0.7700\n",
            "Epoch 94/100000\n",
            "1/1 [==============================] - 0s 5ms/step - loss: 0.6326 - accuracy: 0.6400\n"
          ]
        }
      ]
    },
    {
      "cell_type": "markdown",
      "source": [
        "- 2) El comando compile puede recibir, a demás de optimizer y loss, métricás adicionales. Incorpore \"metrics=[’accuracy’]” al mismo e indique el porcentaje de predicciones correctas con el conjunto de train (el único que hay) una vez finalizado el\n",
        "entrenamiento.\n",
        "- 3) Grafique el riesgo empírico y el porcentaje de clasificaciones correctas en función\n",
        "de los epochs."
      ],
      "metadata": {
        "id": "eVXqvwOiZsEp"
      }
    },
    {
      "cell_type": "code",
      "source": [
        "losses = np.array(hist.history['loss'])\n",
        "accuracy = np.array(hist.history['accuracy'])"
      ],
      "metadata": {
        "id": "_nQxf96wZsHz"
      },
      "execution_count": 89,
      "outputs": []
    },
    {
      "cell_type": "code",
      "source": [
        "x_axis = np.arange(0,len(losses),1)\n",
        "sns.lineplot(x=x_axis,y=losses);"
      ],
      "metadata": {
        "id": "BFLItPQkZsKZ",
        "colab": {
          "base_uri": "https://localhost:8080/",
          "height": 265
        },
        "outputId": "eb5b2d83-f8a1-4b22-acc8-677cb22790c9"
      },
      "execution_count": 91,
      "outputs": [
        {
          "output_type": "display_data",
          "data": {
            "text/plain": [
              "<Figure size 432x288 with 1 Axes>"
            ],
            "image/png": "[encoded data removed]"
          },
          "metadata": {
            "needs_background": "light"
          }
        }
      ]
    },
    {
      "cell_type": "code",
      "source": [
        "x_axis = np.arange(0,len(losses),1)\n",
        "sns.lineplot(x=x_axis,y=accuracy);"
      ],
      "metadata": {
        "id": "0KJJlbOBZsMX",
        "colab": {
          "base_uri": "https://localhost:8080/",
          "height": 265
        },
        "outputId": "6d59db26-57e5-4d84-a418-f60454fe1699"
      },
      "execution_count": 92,
      "outputs": [
        {
          "output_type": "display_data",
          "data": {
            "text/plain": [
              "<Figure size 432x288 with 1 Axes>"
            ],
            "image/png": "[encoded data removed]"
          },
          "metadata": {
            "needs_background": "light"
          }
        }
      ]
    },
    {
      "cell_type": "markdown",
      "source": [
        "- 4) Predecir si un estudiante con notas de (63, 55) va a aprobar."
      ],
      "metadata": {
        "id": "TVZCRd_Dii8t"
      }
    },
    {
      "cell_type": "code",
      "source": [
        "y_prob = model_parcialitos.predict([[63,55]]) \n",
        "y_class = y_prob.argmax(axis=-1)\n",
        "y_class"
      ],
      "metadata": {
        "id": "9XA6GAvhinfU",
        "colab": {
          "base_uri": "https://localhost:8080/"
        },
        "outputId": "71b096b7-6dab-4917-9679-bfb2f68777dc"
      },
      "execution_count": 108,
      "outputs": [
        {
          "output_type": "execute_result",
          "data": {
            "text/plain": [
              "array([0])"
            ]
          },
          "metadata": {},
          "execution_count": 108
        }
      ]
    },
    {
      "cell_type": "markdown",
      "source": [
        "Ergo, el nuestra predicción nos dice que el alumno no va a aprobar"
      ],
      "metadata": {
        "id": "UFCN4JYRk8ZG"
      }
    },
    {
      "cell_type": "markdown",
      "source": [
        "- 5) Hacer un scatter plot con los datos, ploteando las dos clases con colores diferentes\n",
        "y denotanto las etiquetas en el gráfico. Superponer sobre el mismo la frontera de\n",
        "decisión."
      ],
      "metadata": {
        "id": "g4E-lCAglYty"
      }
    },
    {
      "cell_type": "code",
      "source": [
        "weights = model_parcialitos.get_weights()\n",
        "weights"
      ],
      "metadata": {
        "colab": {
          "base_uri": "https://localhost:8080/"
        },
        "id": "W3UalejdnqcW",
        "outputId": "bab9042c-7b56-480f-9889-94d26d1e5da8"
      },
      "execution_count": 125,
      "outputs": [
        {
          "output_type": "execute_result",
          "data": {
            "text/plain": [
              "[array([[0.00561242],\n",
              "        [0.00172034]], dtype=float32), array([0.00231406], dtype=float32)]"
            ]
          },
          "metadata": {},
          "execution_count": 125
        }
      ]
    },
    {
      "cell_type": "code",
      "source": [
        "x_axis = np.arange(0,np.max(inputs),1).reshape(len(x_axis),1)\n",
        "y_axis = np.array([weights[0][0] + weights[0][1]*x for x in x_axis])\n",
        "sns.scatterplot(data=inputs,marker='o',palette=[\"orange\",\"purple\"])\n",
        "sns.lineplot(data=np.append(x_axis,y_axis,axis=1));"
      ],
      "metadata": {
        "colab": {
          "base_uri": "https://localhost:8080/",
          "height": 265
        },
        "id": "wJhyB_sKlbik",
        "outputId": "bd0c6078-f509-4779-b61a-fec2024c7c8f"
      },
      "execution_count": 141,
      "outputs": [
        {
          "output_type": "display_data",
          "data": {
            "text/plain": [
              "<Figure size 432x288 with 1 Axes>"
            ],
            "image/png": "[encoded data removed]"
          },
          "metadata": {}
        }
      ]
    }
  ]
}