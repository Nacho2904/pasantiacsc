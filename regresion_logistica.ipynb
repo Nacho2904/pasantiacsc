{
  "nbformat": 4,
  "nbformat_minor": 0,
  "metadata": {
    "colab": {
      "provenance": [],
      "collapsed_sections": [],
      "authorship_tag": "ABX9TyPkgoJ8UJLoDs7ReedMEI1N",
      "include_colab_link": true
    },
    "kernelspec": {
      "name": "python3",
      "display_name": "Python 3"
    },
    "language_info": {
      "name": "python"
    },
    "accelerator": "GPU",
    "gpuClass": "standard"
  },
  "cells": [
    {
      "cell_type": "markdown",
      "metadata": {
        "id": "view-in-github",
        "colab_type": "text"
      },
      "source": [
        "<a href=\"https://colab.research.google.com/github/Nacho2904/pasantiacsc/blob/main/regresion_logistica.ipynb\" target=\"_parent\"><img src=\"https://colab.research.google.com/assets/colab-badge.svg\" alt=\"Open In Colab\"/></a>"
      ]
    },
    {
      "cell_type": "markdown",
      "source": [
        "#Regresión logística"
      ],
      "metadata": {
        "id": "phk93RtfVtPP"
      }
    },
    {
      "cell_type": "markdown",
      "source": [
        "## Parcialitos"
      ],
      "metadata": {
        "id": "WYks_XwOYkY_"
      }
    },
    {
      "cell_type": "markdown",
      "source": [
        "- 1) Usando \"loss=tf.keras.losses.BinaryCrossentropy(from_logits=True)\", programar\n",
        "con keras el GD. Indicar el learning rate, el patience del early stopping y el riesgo empírico finalmente alcanzado."
      ],
      "metadata": {
        "id": "AisPkDc1Yq7d"
      }
    },
    {
      "cell_type": "code",
      "source": [
        "!wget https://raw.githubusercontent.com/CSC-CONICET/CURSO-LEARNING1/main/datasets/parcialitos.txt"
      ],
      "metadata": {
        "colab": {
          "base_uri": "https://localhost:8080/"
        },
        "id": "Zitnii7yWva8",
        "outputId": "641d60da-8cd0-4ab6-cb20-c6cffe97de94"
      },
      "execution_count": 85,
      "outputs": [
        {
          "output_type": "stream",
          "name": "stdout",
          "text": [
            "--2022-09-06 16:01:06--  https://raw.githubusercontent.com/CSC-CONICET/CURSO-LEARNING1/main/datasets/parcialitos.txt\n",
            "Resolving raw.githubusercontent.com (raw.githubusercontent.com)... 185.199.108.133, 185.199.109.133, 185.199.110.133, ...\n",
            "Connecting to raw.githubusercontent.com (raw.githubusercontent.com)|185.199.108.133|:443... connected.\n",
            "HTTP request sent, awaiting response... 200 OK\n",
            "Length: 3775 (3.7K) [text/plain]\n",
            "Saving to: ‘parcialitos.txt.2’\n",
            "\n",
            "\rparcialitos.txt.2     0%[                    ]       0  --.-KB/s               \rparcialitos.txt.2   100%[===================>]   3.69K  --.-KB/s    in 0s      \n",
            "\n",
            "2022-09-06 16:01:06 (61.1 MB/s) - ‘parcialitos.txt.2’ saved [3775/3775]\n",
            "\n"
          ]
        }
      ]
    },
    {
      "cell_type": "code",
      "execution_count": 86,
      "metadata": {
        "colab": {
          "base_uri": "https://localhost:8080/",
          "height": 424
        },
        "id": "CGno0gystxNo",
        "outputId": "824397c8-0669-420d-dcc4-aeef991e329a"
      },
      "outputs": [
        {
          "output_type": "execute_result",
          "data": {
            "text/plain": [
              "    nota_primer_parcialito  nota_segundo_parcialito  aprobo\n",
              "0                34.623660                78.024693       0\n",
              "1                30.286711                43.894998       0\n",
              "2                35.847409                72.902198       0\n",
              "3                60.182599                86.308552       1\n",
              "4                79.032736                75.344376       1\n",
              "..                     ...                      ...     ...\n",
              "95               83.489163                48.380286       1\n",
              "96               42.261701                87.103851       1\n",
              "97               99.315009                68.775409       1\n",
              "98               55.340018                64.931938       1\n",
              "99               74.775893                89.529813       1\n",
              "\n",
              "[100 rows x 3 columns]"
            ],
            "text/html": [
              "\n",
              "  <div id=\"df-dc84f330-5556-4cf1-9588-a3271aaa213b\">\n",
              "    <div class=\"colab-df-container\">\n",
              "      <div>\n",
              "<style scoped>\n",
              "    .dataframe tbody tr th:only-of-type {\n",
              "        vertical-align: middle;\n",
              "    }\n",
              "\n",
              "    .dataframe tbody tr th {\n",
              "        vertical-align: top;\n",
              "    }\n",
              "\n",
              "    .dataframe thead th {\n",
              "        text-align: right;\n",
              "    }\n",
              "</style>\n",
              "<table border=\"1\" class=\"dataframe\">\n",
              "  <thead>\n",
              "    <tr style=\"text-align: right;\">\n",
              "      <th></th>\n",
              "      <th>nota_primer_parcialito</th>\n",
              "      <th>nota_segundo_parcialito</th>\n",
              "      <th>aprobo</th>\n",
              "    </tr>\n",
              "  </thead>\n",
              "  <tbody>\n",
              "    <tr>\n",
              "      <th>0</th>\n",
              "      <td>34.623660</td>\n",
              "      <td>78.024693</td>\n",
              "      <td>0</td>\n",
              "    </tr>\n",
              "    <tr>\n",
              "      <th>1</th>\n",
              "      <td>30.286711</td>\n",
              "      <td>43.894998</td>\n",
              "      <td>0</td>\n",
              "    </tr>\n",
              "    <tr>\n",
              "      <th>2</th>\n",
              "      <td>35.847409</td>\n",
              "      <td>72.902198</td>\n",
              "      <td>0</td>\n",
              "    </tr>\n",
              "    <tr>\n",
              "      <th>3</th>\n",
              "      <td>60.182599</td>\n",
              "      <td>86.308552</td>\n",
              "      <td>1</td>\n",
              "    </tr>\n",
              "    <tr>\n",
              "      <th>4</th>\n",
              "      <td>79.032736</td>\n",
              "      <td>75.344376</td>\n",
              "      <td>1</td>\n",
              "    </tr>\n",
              "    <tr>\n",
              "      <th>...</th>\n",
              "      <td>...</td>\n",
              "      <td>...</td>\n",
              "      <td>...</td>\n",
              "    </tr>\n",
              "    <tr>\n",
              "      <th>95</th>\n",
              "      <td>83.489163</td>\n",
              "      <td>48.380286</td>\n",
              "      <td>1</td>\n",
              "    </tr>\n",
              "    <tr>\n",
              "      <th>96</th>\n",
              "      <td>42.261701</td>\n",
              "      <td>87.103851</td>\n",
              "      <td>1</td>\n",
              "    </tr>\n",
              "    <tr>\n",
              "      <th>97</th>\n",
              "      <td>99.315009</td>\n",
              "      <td>68.775409</td>\n",
              "      <td>1</td>\n",
              "    </tr>\n",
              "    <tr>\n",
              "      <th>98</th>\n",
              "      <td>55.340018</td>\n",
              "      <td>64.931938</td>\n",
              "      <td>1</td>\n",
              "    </tr>\n",
              "    <tr>\n",
              "      <th>99</th>\n",
              "      <td>74.775893</td>\n",
              "      <td>89.529813</td>\n",
              "      <td>1</td>\n",
              "    </tr>\n",
              "  </tbody>\n",
              "</table>\n",
              "<p>100 rows × 3 columns</p>\n",
              "</div>\n",
              "      <button class=\"colab-df-convert\" onclick=\"convertToInteractive('df-dc84f330-5556-4cf1-9588-a3271aaa213b')\"\n",
              "              title=\"Convert this dataframe to an interactive table.\"\n",
              "              style=\"display:none;\">\n",
              "        \n",
              "  <svg xmlns=\"http://www.w3.org/2000/svg\" height=\"24px\"viewBox=\"0 0 24 24\"\n",
              "       width=\"24px\">\n",
              "    <path d=\"M0 0h24v24H0V0z\" fill=\"none\"/>\n",
              "    <path d=\"M18.56 5.44l.94 2.06.94-2.06 2.06-.94-2.06-.94-.94-2.06-.94 2.06-2.06.94zm-11 1L8.5 8.5l.94-2.06 2.06-.94-2.06-.94L8.5 2.5l-.94 2.06-2.06.94zm10 10l.94 2.06.94-2.06 2.06-.94-2.06-.94-.94-2.06-.94 2.06-2.06.94z\"/><path d=\"M17.41 7.96l-1.37-1.37c-.4-.4-.92-.59-1.43-.59-.52 0-1.04.2-1.43.59L10.3 9.45l-7.72 7.72c-.78.78-.78 2.05 0 2.83L4 21.41c.39.39.9.59 1.41.59.51 0 1.02-.2 1.41-.59l7.78-7.78 2.81-2.81c.8-.78.8-2.07 0-2.86zM5.41 20L4 18.59l7.72-7.72 1.47 1.35L5.41 20z\"/>\n",
              "  </svg>\n",
              "      </button>\n",
              "      \n",
              "  <style>\n",
              "    .colab-df-container {\n",
              "      display:flex;\n",
              "      flex-wrap:wrap;\n",
              "      gap: 12px;\n",
              "    }\n",
              "\n",
              "    .colab-df-convert {\n",
              "      background-color: #E8F0FE;\n",
              "      border: none;\n",
              "      border-radius: 50%;\n",
              "      cursor: pointer;\n",
              "      display: none;\n",
              "      fill: #1967D2;\n",
              "      height: 32px;\n",
              "      padding: 0 0 0 0;\n",
              "      width: 32px;\n",
              "    }\n",
              "\n",
              "    .colab-df-convert:hover {\n",
              "      background-color: #E2EBFA;\n",
              "      box-shadow: 0px 1px 2px rgba(60, 64, 67, 0.3), 0px 1px 3px 1px rgba(60, 64, 67, 0.15);\n",
              "      fill: #174EA6;\n",
              "    }\n",
              "\n",
              "    [theme=dark] .colab-df-convert {\n",
              "      background-color: #3B4455;\n",
              "      fill: #D2E3FC;\n",
              "    }\n",
              "\n",
              "    [theme=dark] .colab-df-convert:hover {\n",
              "      background-color: #434B5C;\n",
              "      box-shadow: 0px 1px 3px 1px rgba(0, 0, 0, 0.15);\n",
              "      filter: drop-shadow(0px 1px 2px rgba(0, 0, 0, 0.3));\n",
              "      fill: #FFFFFF;\n",
              "    }\n",
              "  </style>\n",
              "\n",
              "      <script>\n",
              "        const buttonEl =\n",
              "          document.querySelector('#df-dc84f330-5556-4cf1-9588-a3271aaa213b button.colab-df-convert');\n",
              "        buttonEl.style.display =\n",
              "          google.colab.kernel.accessAllowed ? 'block' : 'none';\n",
              "\n",
              "        async function convertToInteractive(key) {\n",
              "          const element = document.querySelector('#df-dc84f330-5556-4cf1-9588-a3271aaa213b');\n",
              "          const dataTable =\n",
              "            await google.colab.kernel.invokeFunction('convertToInteractive',\n",
              "                                                     [key], {});\n",
              "          if (!dataTable) return;\n",
              "\n",
              "          const docLinkHtml = 'Like what you see? Visit the ' +\n",
              "            '<a target=\"_blank\" href=https://colab.research.google.com/notebooks/data_table.ipynb>data table notebook</a>'\n",
              "            + ' to learn more about interactive tables.';\n",
              "          element.innerHTML = '';\n",
              "          dataTable['output_type'] = 'display_data';\n",
              "          await google.colab.output.renderOutput(dataTable, element);\n",
              "          const docLink = document.createElement('div');\n",
              "          docLink.innerHTML = docLinkHtml;\n",
              "          element.appendChild(docLink);\n",
              "        }\n",
              "      </script>\n",
              "    </div>\n",
              "  </div>\n",
              "  "
            ]
          },
          "metadata": {},
          "execution_count": 86
        }
      ],
      "source": [
        "import pandas as pd\n",
        "import numpy as np\n",
        "import tensorflow as tf\n",
        "import seaborn as sns\n",
        "import matplotlib as plt\n",
        "dataset = pd.read_table(\"parcialitos.txt\", sep=',',header=None)\n",
        "dataset.columns = [\"nota_primer_parcialito\", \"nota_segundo_parcialito\", \"aprobo\"]\n",
        "dataset"
      ]
    },
    {
      "cell_type": "code",
      "source": [
        "inputs = np.array(dataset[[\"nota_primer_parcialito\", \"nota_segundo_parcialito\"]])\n",
        "targets = np.array(dataset[\"aprobo\"]).reshape(len(dataset),1)\n",
        "model_parcialitos = tf.keras.Sequential()\n",
        "model_parcialitos.add(tf.keras.layers.Dense(1, input_dim=2))\n",
        "model_parcialitos.summary()"
      ],
      "metadata": {
        "colab": {
          "base_uri": "https://localhost:8080/"
        },
        "id": "ygJ4Qq5RYvXR",
        "outputId": "d5834e70-5b28-475b-e035-25667a8a2334"
      },
      "execution_count": 87,
      "outputs": [
        {
          "output_type": "stream",
          "name": "stdout",
          "text": [
            "Model: \"sequential_25\"\n",
            "_________________________________________________________________\n",
            " Layer (type)                Output Shape              Param #   \n",
            "=================================================================\n",
            " dense_25 (Dense)            (None, 1)                 3         \n",
            "                                                                 \n",
            "=================================================================\n",
            "Total params: 3\n",
            "Trainable params: 3\n",
            "Non-trainable params: 0\n",
            "_________________________________________________________________\n"
          ]
        }
      ]
    },
    {
      "cell_type": "code",
      "source": [
        "#entrenamos el modelo\n",
        "early_stop = tf.keras.callbacks.EarlyStopping(monitor='loss', patience=1)\n",
        "model_parcialitos.compile(optimizer=tf.keras.optimizers.SGD(learning_rate=0.0015),loss=tf.keras.losses.BinaryCrossentropy(from_logits=True),\n",
        "                          metrics=[\"accuracy\"])\n",
        "hist = model_parcialitos.fit(x=inputs, y=targets, batch_size = len(dataset), epochs=100000,callbacks=[early_stop]);"
      ],
      "metadata": {
        "colab": {
          "base_uri": "https://localhost:8080/"
        },
        "id": "c91cOAEQZr7K",
        "outputId": "da176a03-43b0-4e86-fe8d-2d1906a993a1"
      },
      "execution_count": 88,
      "outputs": [
        {
          "output_type": "stream",
          "name": "stdout",
          "text": [
            "Epoch 1/100000\n",
            "1/1 [==============================] - 0s 237ms/step - loss: 75.3892 - accuracy: 0.4000\n",
            "Epoch 2/100000\n",
            "1/1 [==============================] - 0s 8ms/step - loss: 69.4203 - accuracy: 0.4000\n",
            "Epoch 3/100000\n",
            "1/1 [==============================] - 0s 6ms/step - loss: 63.4514 - accuracy: 0.4000\n",
            "Epoch 4/100000\n",
            "1/1 [==============================] - 0s 10ms/step - loss: 57.4826 - accuracy: 0.4000\n",
            "Epoch 5/100000\n",
            "1/1 [==============================] - 0s 7ms/step - loss: 51.5137 - accuracy: 0.4000\n",
            "Epoch 6/100000\n",
            "1/1 [==============================] - 0s 8ms/step - loss: 45.5448 - accuracy: 0.4000\n",
            "Epoch 7/100000\n",
            "1/1 [==============================] - 0s 7ms/step - loss: 39.5759 - accuracy: 0.4000\n",
            "Epoch 8/100000\n",
            "1/1 [==============================] - 0s 13ms/step - loss: 33.6071 - accuracy: 0.4000\n",
            "Epoch 9/100000\n",
            "1/1 [==============================] - 0s 9ms/step - loss: 27.6382 - accuracy: 0.4000\n",
            "Epoch 10/100000\n",
            "1/1 [==============================] - 0s 6ms/step - loss: 21.7092 - accuracy: 0.3800\n",
            "Epoch 11/100000\n",
            "1/1 [==============================] - 0s 7ms/step - loss: 16.1852 - accuracy: 0.3800\n",
            "Epoch 12/100000\n",
            "1/1 [==============================] - 0s 9ms/step - loss: 11.5381 - accuracy: 0.3300\n",
            "Epoch 13/100000\n",
            "1/1 [==============================] - 0s 14ms/step - loss: 8.2017 - accuracy: 0.3700\n",
            "Epoch 14/100000\n",
            "1/1 [==============================] - 0s 7ms/step - loss: 6.5364 - accuracy: 0.4800\n",
            "Epoch 15/100000\n",
            "1/1 [==============================] - 0s 10ms/step - loss: 5.9427 - accuracy: 0.4900\n",
            "Epoch 16/100000\n",
            "1/1 [==============================] - 0s 7ms/step - loss: 5.5662 - accuracy: 0.5000\n",
            "Epoch 17/100000\n",
            "1/1 [==============================] - 0s 9ms/step - loss: 5.3700 - accuracy: 0.5300\n",
            "Epoch 18/100000\n",
            "1/1 [==============================] - 0s 9ms/step - loss: 5.2424 - accuracy: 0.5400\n",
            "Epoch 19/100000\n",
            "1/1 [==============================] - 0s 8ms/step - loss: 5.1355 - accuracy: 0.5500\n",
            "Epoch 20/100000\n",
            "1/1 [==============================] - 0s 8ms/step - loss: 5.0364 - accuracy: 0.5500\n",
            "Epoch 21/100000\n",
            "1/1 [==============================] - 0s 7ms/step - loss: 4.9410 - accuracy: 0.5500\n",
            "Epoch 22/100000\n",
            "1/1 [==============================] - 0s 8ms/step - loss: 4.8475 - accuracy: 0.5500\n",
            "Epoch 23/100000\n",
            "1/1 [==============================] - 0s 10ms/step - loss: 4.7552 - accuracy: 0.5500\n",
            "Epoch 24/100000\n",
            "1/1 [==============================] - 0s 10ms/step - loss: 4.6636 - accuracy: 0.5500\n",
            "Epoch 25/100000\n",
            "1/1 [==============================] - 0s 11ms/step - loss: 4.5724 - accuracy: 0.5500\n",
            "Epoch 26/100000\n",
            "1/1 [==============================] - 0s 8ms/step - loss: 4.4816 - accuracy: 0.5500\n",
            "Epoch 27/100000\n",
            "1/1 [==============================] - 0s 8ms/step - loss: 4.3910 - accuracy: 0.5500\n",
            "Epoch 28/100000\n",
            "1/1 [==============================] - 0s 11ms/step - loss: 4.3006 - accuracy: 0.5500\n",
            "Epoch 29/100000\n",
            "1/1 [==============================] - 0s 8ms/step - loss: 4.2103 - accuracy: 0.5500\n",
            "Epoch 30/100000\n",
            "1/1 [==============================] - 0s 9ms/step - loss: 4.1201 - accuracy: 0.5500\n",
            "Epoch 31/100000\n",
            "1/1 [==============================] - 0s 10ms/step - loss: 4.0301 - accuracy: 0.5500\n",
            "Epoch 32/100000\n",
            "1/1 [==============================] - 0s 11ms/step - loss: 3.9401 - accuracy: 0.5500\n",
            "Epoch 33/100000\n",
            "1/1 [==============================] - 0s 8ms/step - loss: 3.8503 - accuracy: 0.5500\n",
            "Epoch 34/100000\n",
            "1/1 [==============================] - 0s 8ms/step - loss: 3.7606 - accuracy: 0.5500\n",
            "Epoch 35/100000\n",
            "1/1 [==============================] - 0s 11ms/step - loss: 3.6711 - accuracy: 0.5500\n",
            "Epoch 36/100000\n",
            "1/1 [==============================] - 0s 6ms/step - loss: 3.5817 - accuracy: 0.5500\n",
            "Epoch 37/100000\n",
            "1/1 [==============================] - 0s 8ms/step - loss: 3.4924 - accuracy: 0.5500\n",
            "Epoch 38/100000\n",
            "1/1 [==============================] - 0s 8ms/step - loss: 3.4033 - accuracy: 0.5500\n",
            "Epoch 39/100000\n",
            "1/1 [==============================] - 0s 7ms/step - loss: 3.3144 - accuracy: 0.5500\n",
            "Epoch 40/100000\n",
            "1/1 [==============================] - 0s 7ms/step - loss: 3.2257 - accuracy: 0.5500\n",
            "Epoch 41/100000\n",
            "1/1 [==============================] - 0s 8ms/step - loss: 3.1372 - accuracy: 0.5500\n",
            "Epoch 42/100000\n",
            "1/1 [==============================] - 0s 7ms/step - loss: 3.0490 - accuracy: 0.5500\n",
            "Epoch 43/100000\n",
            "1/1 [==============================] - 0s 8ms/step - loss: 2.9610 - accuracy: 0.5500\n",
            "Epoch 44/100000\n",
            "1/1 [==============================] - 0s 9ms/step - loss: 2.8733 - accuracy: 0.5500\n",
            "Epoch 45/100000\n",
            "1/1 [==============================] - 0s 9ms/step - loss: 2.7859 - accuracy: 0.5500\n",
            "Epoch 46/100000\n",
            "1/1 [==============================] - 0s 8ms/step - loss: 2.6988 - accuracy: 0.5500\n",
            "Epoch 47/100000\n",
            "1/1 [==============================] - 0s 8ms/step - loss: 2.6121 - accuracy: 0.5500\n",
            "Epoch 48/100000\n",
            "1/1 [==============================] - 0s 8ms/step - loss: 2.5258 - accuracy: 0.5500\n",
            "Epoch 49/100000\n",
            "1/1 [==============================] - 0s 10ms/step - loss: 2.4399 - accuracy: 0.5500\n",
            "Epoch 50/100000\n",
            "1/1 [==============================] - 0s 10ms/step - loss: 2.3546 - accuracy: 0.5500\n",
            "Epoch 51/100000\n",
            "1/1 [==============================] - 0s 7ms/step - loss: 2.2697 - accuracy: 0.5500\n",
            "Epoch 52/100000\n",
            "1/1 [==============================] - 0s 9ms/step - loss: 2.1855 - accuracy: 0.5500\n",
            "Epoch 53/100000\n",
            "1/1 [==============================] - 0s 9ms/step - loss: 2.1020 - accuracy: 0.5500\n",
            "Epoch 54/100000\n",
            "1/1 [==============================] - 0s 8ms/step - loss: 2.0192 - accuracy: 0.5500\n",
            "Epoch 55/100000\n",
            "1/1 [==============================] - 0s 7ms/step - loss: 1.9372 - accuracy: 0.5500\n",
            "Epoch 56/100000\n",
            "1/1 [==============================] - 0s 10ms/step - loss: 1.8562 - accuracy: 0.5500\n",
            "Epoch 57/100000\n",
            "1/1 [==============================] - 0s 7ms/step - loss: 1.7762 - accuracy: 0.5500\n",
            "Epoch 58/100000\n",
            "1/1 [==============================] - 0s 7ms/step - loss: 1.6974 - accuracy: 0.5500\n",
            "Epoch 59/100000\n",
            "1/1 [==============================] - 0s 10ms/step - loss: 1.6199 - accuracy: 0.5500\n",
            "Epoch 60/100000\n",
            "1/1 [==============================] - 0s 7ms/step - loss: 1.5438 - accuracy: 0.5500\n",
            "Epoch 61/100000\n",
            "1/1 [==============================] - 0s 9ms/step - loss: 1.4694 - accuracy: 0.5500\n",
            "Epoch 62/100000\n",
            "1/1 [==============================] - 0s 8ms/step - loss: 1.3969 - accuracy: 0.5500\n",
            "Epoch 63/100000\n",
            "1/1 [==============================] - 0s 8ms/step - loss: 1.3264 - accuracy: 0.5500\n",
            "Epoch 64/100000\n",
            "1/1 [==============================] - 0s 7ms/step - loss: 1.2583 - accuracy: 0.5500\n",
            "Epoch 65/100000\n",
            "1/1 [==============================] - 0s 8ms/step - loss: 1.1928 - accuracy: 0.5500\n",
            "Epoch 66/100000\n",
            "1/1 [==============================] - 0s 7ms/step - loss: 1.1302 - accuracy: 0.5500\n",
            "Epoch 67/100000\n",
            "1/1 [==============================] - 0s 6ms/step - loss: 1.0709 - accuracy: 0.5500\n",
            "Epoch 68/100000\n",
            "1/1 [==============================] - 0s 10ms/step - loss: 1.0150 - accuracy: 0.5600\n",
            "Epoch 69/100000\n",
            "1/1 [==============================] - 0s 8ms/step - loss: 0.9630 - accuracy: 0.5600\n",
            "Epoch 70/100000\n",
            "1/1 [==============================] - 0s 9ms/step - loss: 0.9151 - accuracy: 0.5600\n",
            "Epoch 71/100000\n",
            "1/1 [==============================] - 0s 7ms/step - loss: 0.8715 - accuracy: 0.5700\n",
            "Epoch 72/100000\n",
            "1/1 [==============================] - 0s 7ms/step - loss: 0.8324 - accuracy: 0.5700\n",
            "Epoch 73/100000\n",
            "1/1 [==============================] - 0s 8ms/step - loss: 0.7978 - accuracy: 0.5700\n",
            "Epoch 74/100000\n",
            "1/1 [==============================] - 0s 5ms/step - loss: 0.7676 - accuracy: 0.5700\n",
            "Epoch 75/100000\n",
            "1/1 [==============================] - 0s 6ms/step - loss: 0.7418 - accuracy: 0.5800\n",
            "Epoch 76/100000\n",
            "1/1 [==============================] - 0s 5ms/step - loss: 0.7200 - accuracy: 0.5800\n",
            "Epoch 77/100000\n",
            "1/1 [==============================] - 0s 5ms/step - loss: 0.7018 - accuracy: 0.5800\n",
            "Epoch 78/100000\n",
            "1/1 [==============================] - 0s 5ms/step - loss: 0.6869 - accuracy: 0.5900\n",
            "Epoch 79/100000\n",
            "1/1 [==============================] - 0s 5ms/step - loss: 0.6748 - accuracy: 0.5900\n",
            "Epoch 80/100000\n",
            "1/1 [==============================] - 0s 5ms/step - loss: 0.6651 - accuracy: 0.6000\n",
            "Epoch 81/100000\n",
            "1/1 [==============================] - 0s 6ms/step - loss: 0.6574 - accuracy: 0.6300\n",
            "Epoch 82/100000\n",
            "1/1 [==============================] - 0s 7ms/step - loss: 0.6513 - accuracy: 0.6300\n",
            "Epoch 83/100000\n",
            "1/1 [==============================] - 0s 8ms/step - loss: 0.6466 - accuracy: 0.6600\n",
            "Epoch 84/100000\n",
            "1/1 [==============================] - 0s 8ms/step - loss: 0.6428 - accuracy: 0.6600\n",
            "Epoch 85/100000\n",
            "1/1 [==============================] - 0s 5ms/step - loss: 0.6399 - accuracy: 0.6900\n",
            "Epoch 86/100000\n",
            "1/1 [==============================] - 0s 5ms/step - loss: 0.6377 - accuracy: 0.7300\n",
            "Epoch 87/100000\n",
            "1/1 [==============================] - 0s 5ms/step - loss: 0.6359 - accuracy: 0.6900\n",
            "Epoch 88/100000\n",
            "1/1 [==============================] - 0s 6ms/step - loss: 0.6346 - accuracy: 0.6800\n",
            "Epoch 89/100000\n",
            "1/1 [==============================] - 0s 5ms/step - loss: 0.6335 - accuracy: 0.6800\n",
            "Epoch 90/100000\n",
            "1/1 [==============================] - 0s 6ms/step - loss: 0.6327 - accuracy: 0.6600\n",
            "Epoch 91/100000\n",
            "1/1 [==============================] - 0s 5ms/step - loss: 0.6321 - accuracy: 0.6600\n",
            "Epoch 92/100000\n",
            "1/1 [==============================] - 0s 5ms/step - loss: 0.6317 - accuracy: 0.6500\n",
            "Epoch 93/100000\n",
            "1/1 [==============================] - 0s 5ms/step - loss: 0.6317 - accuracy: 0.7700\n",
            "Epoch 94/100000\n",
            "1/1 [==============================] - 0s 5ms/step - loss: 0.6326 - accuracy: 0.6400\n"
          ]
        }
      ]
    },
    {
      "cell_type": "markdown",
      "source": [
        "- 2) El comando compile puede recibir, a demás de optimizer y loss, métricás adicionales. Incorpore \"metrics=[’accuracy’]” al mismo e indique el porcentaje de predicciones correctas con el conjunto de train (el único que hay) una vez finalizado el\n",
        "entrenamiento.\n",
        "- 3) Grafique el riesgo empírico y el porcentaje de clasificaciones correctas en función\n",
        "de los epochs."
      ],
      "metadata": {
        "id": "eVXqvwOiZsEp"
      }
    },
    {
      "cell_type": "code",
      "source": [
        "losses = np.array(hist.history['loss'])\n",
        "accuracy = np.array(hist.history['accuracy'])"
      ],
      "metadata": {
        "id": "_nQxf96wZsHz"
      },
      "execution_count": 89,
      "outputs": []
    },
    {
      "cell_type": "code",
      "source": [
        "x_axis = np.arange(0,len(losses),1)\n",
        "sns.lineplot(x=x_axis,y=losses);"
      ],
      "metadata": {
        "id": "BFLItPQkZsKZ",
        "colab": {
          "base_uri": "https://localhost:8080/",
          "height": 265
        },
        "outputId": "eb5b2d83-f8a1-4b22-acc8-677cb22790c9"
      },
      "execution_count": 91,
      "outputs": [
        {
          "output_type": "display_data",
          "data": {
            "text/plain": [
              "<Figure size 432x288 with 1 Axes>"
            ],
            "image/png": "[encoded data removed]"
          },
          "metadata": {
            "needs_background": "light"
          }
        }
      ]
    },
    {
      "cell_type": "code",
      "source": [
        "x_axis = np.arange(0,len(losses),1)\n",
        "sns.lineplot(x=x_axis,y=accuracy);"
      ],
      "metadata": {
        "id": "0KJJlbOBZsMX",
        "colab": {
          "base_uri": "https://localhost:8080/",
          "height": 265
        },
        "outputId": "6d59db26-57e5-4d84-a418-f60454fe1699"
      },
      "execution_count": 92,
      "outputs": [
        {
          "output_type": "display_data",
          "data": {
            "text/plain": [
              "<Figure size 432x288 with 1 Axes>"
            ],
            "image/png": "[encoded data removed]"
          },
          "metadata": {
            "needs_background": "light"
          }
        }
      ]
    },
    {
      "cell_type": "markdown",
      "source": [
        "- 4) Predecir si un estudiante con notas de (63, 55) va a aprobar."
      ],
      "metadata": {
        "id": "TVZCRd_Dii8t"
      }
    },
    {
      "cell_type": "code",
      "source": [
        "y_prob = model_parcialitos.predict([[63,55]]) \n",
        "y_class = y_prob.argmax(axis=-1)\n",
        "y_class"
      ],
      "metadata": {
        "id": "9XA6GAvhinfU",
        "colab": {
          "base_uri": "https://localhost:8080/"
        },
        "outputId": "71b096b7-6dab-4917-9679-bfb2f68777dc"
      },
      "execution_count": 108,
      "outputs": [
        {
          "output_type": "execute_result",
          "data": {
            "text/plain": [
              "array([0])"
            ]
          },
          "metadata": {},
          "execution_count": 108
        }
      ]
    },
    {
      "cell_type": "markdown",
      "source": [
        "Ergo, el nuestra predicción nos dice que el alumno no va a aprobar"
      ],
      "metadata": {
        "id": "UFCN4JYRk8ZG"
      }
    }
  ]
}