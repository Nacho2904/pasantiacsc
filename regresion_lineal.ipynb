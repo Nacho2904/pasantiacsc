{
  "nbformat": 4,
  "nbformat_minor": 0,
  "metadata": {
    "colab": {
      "provenance": [],
      "collapsed_sections": [
        "1I6KyBqXBrvv",
        "9p_8KFqO_4PH",
        "_bbK92S0BFzt",
        "SPQGDegqEGHt",
        "lUvHIWtMBMAV",
        "4Oc3dp99BMdL"
      ],
      "authorship_tag": "ABX9TyN7mp4DEJTxYQ1Y0navIXOG",
      "include_colab_link": true
    },
    "kernelspec": {
      "name": "python3",
      "display_name": "Python 3"
    },
    "language_info": {
      "name": "python"
    }
  },
  "cells": [
    {
      "cell_type": "markdown",
      "metadata": {
        "id": "view-in-github",
        "colab_type": "text"
      },
      "source": [
        "<a href=\"https://colab.research.google.com/github/Nacho2904/pasantiacsc/blob/main/regresion_lineal.ipynb\" target=\"_parent\"><img src=\"https://colab.research.google.com/assets/colab-badge.svg\" alt=\"Open In Colab\"/></a>"
      ]
    },
    {
      "cell_type": "markdown",
      "source": [
        "#Consigna"
      ],
      "metadata": {
        "id": "BdSv1G1zAFB-"
      }
    },
    {
      "cell_type": "markdown",
      "source": [
        "1) Encontrar la solución óptima invirtiendo la matriz, calcular el ECM y graficar la regresión elegida sobre un scatter plot / hecho\n",
        "\n",
        "2) Predecir ganancias para 35.000 habitantes / hecho\n",
        "\n",
        "3opt) Graficar el problema de optimización en 3-D (bias - weight y Risk) para todos los theta posibles / hecho\n",
        "\n",
        "4) Resolver el problema con GD (repetir 1 y 2) / hecho\n",
        "\n",
        "5) Plotear riesgo vs epochs / hecho\n",
        "\n",
        "6) Chequear el LR óptimo / hecho\n",
        "\n",
        "7) Repetir para dataset inmobiliaria"
      ],
      "metadata": {
        "id": "x3pf_78fF5ui"
      }
    },
    {
      "cell_type": "markdown",
      "source": [
        "# Imports de librerías usadas"
      ],
      "metadata": {
        "id": "1I6KyBqXBrvv"
      }
    },
    {
      "cell_type": "code",
      "source": [
        "import numpy as np\n",
        "import tensorflow as tf\n",
        "import matplotlib.pyplot as plt\n",
        "import math\n",
        "#sirve para gráficos tridimensionales\n",
        "from mpl_toolkits.mplot3d import Axes3D\n",
        "import pandas as pd\n",
        "GANANCIAS = 1\n",
        "POBLACION = 0"
      ],
      "metadata": {
        "id": "ON3s0jy8BLyt"
      },
      "execution_count": 24,
      "outputs": []
    },
    {
      "cell_type": "markdown",
      "source": [
        "#Dataset: McDonalds"
      ],
      "metadata": {
        "id": "9p_8KFqO_4PH"
      }
    },
    {
      "cell_type": "markdown",
      "source": [
        "## A la vieja usanza"
      ],
      "metadata": {
        "id": "MR_MvnnPL_ZQ"
      }
    },
    {
      "cell_type": "code",
      "source": [
        "from urllib import request\n",
        "example1_url=\"https://raw.githubusercontent.com/CSC-CONICET/CURSO-LEARNING1/main/datasets/mc.txt\"\n",
        "f = request.urlopen(example1_url)\n",
        "#transformo el dataset directamente en matriz\n",
        "dataset = np.matrix(np.loadtxt(f, dtype=float, delimiter=\",\"))"
      ],
      "metadata": {
        "id": "V-CeZMhDDUaB"
      },
      "execution_count": 47,
      "outputs": []
    },
    {
      "cell_type": "code",
      "source": [
        "  # separamos las ganancias del dataset\n",
        "  Y = dataset[:,GANANCIAS]"
      ],
      "metadata": {
        "id": "r_3K33FpDUdZ"
      },
      "execution_count": 35,
      "outputs": []
    },
    {
      "cell_type": "code",
      "source": [
        "#Separamos la matrix X de inputs del dataset y le anadimos la columna de unos\n",
        "population = dataset[:,0]\n",
        "#en realidad lo que hago es crear una matriz de nx1 llena de unos y mediante el método\n",
        "#np.append le agrego la matrix X \n",
        "X = np.append(np.ones(len(dataset)).reshape(len(dataset),1), dataset[:,POBLACION], axis=1)"
      ],
      "metadata": {
        "id": "Dy2N-LjJDUgI"
      },
      "execution_count": 36,
      "outputs": []
    },
    {
      "cell_type": "markdown",
      "source": [
        "Calculamos la seudoinversa mediante la formula derivada"
      ],
      "metadata": {
        "id": "HMNgvE-BQyB2"
      }
    },
    {
      "cell_type": "code",
      "source": [
        "XtX = np.matmul(np.transpose(X), X)\n",
        "seudoinversa = np.matmul(np.linalg.inv(XtX), np.transpose(X))"
      ],
      "metadata": {
        "id": "GNpvsdomDUko"
      },
      "execution_count": 37,
      "outputs": []
    },
    {
      "cell_type": "markdown",
      "source": [
        "Finalmente, calculamos los pesos "
      ],
      "metadata": {
        "id": "L6MJzTwxNdke"
      }
    },
    {
      "cell_type": "code",
      "source": [
        "#saco w,b aplicando la fórmula derivada (XtX)^(-1)Xt*y\n",
        "w = np.matmul(seudoinversa, Y)\n",
        "w"
      ],
      "metadata": {
        "colab": {
          "base_uri": "https://localhost:8080/"
        },
        "id": "HKXXOTCONd2l",
        "outputId": "a7f216f4-92f1-43eb-dbae-51e3b1c7138a"
      },
      "execution_count": 38,
      "outputs": [
        {
          "output_type": "execute_result",
          "data": {
            "text/plain": [
              "matrix([[-3.89578088],\n",
              "        [ 1.19303364]])"
            ]
          },
          "metadata": {},
          "execution_count": 38
        }
      ]
    },
    {
      "cell_type": "code",
      "source": [
        "#función lineal, el regresor óptimo\n",
        "phi = lambda x: (w[0,0] + w[1,0]*x)"
      ],
      "metadata": {
        "id": "hk8eL4T1Nd71"
      },
      "execution_count": 41,
      "outputs": []
    },
    {
      "cell_type": "code",
      "source": [
        "xaxis = np.arange(0, 25, 0.01)\n",
        "yaxis = np.array([phi(x) for x in xaxis])\n",
        "plt.plot(xaxis, yaxis)\n",
        "plt.scatter(np.array(dataset[:,POBLACION]),np.array(dataset[:,GANANCIAS]), c='c')\n",
        "plt.xlabel(\"Población\")\n",
        "plt.ylabel(\"Ganancias\");"
      ],
      "metadata": {
        "colab": {
          "base_uri": "https://localhost:8080/",
          "height": 279
        },
        "id": "_hNvteCINd_K",
        "outputId": "5286f914-7e6f-47f3-8100-12cd41bcf8f4"
      },
      "execution_count": 42,
      "outputs": [
        {
          "output_type": "display_data",
          "data": {
            "text/plain": [
              "<Figure size 432x288 with 1 Axes>"
            ],
            "image/png": "[encoded data removed]"
          },
          "metadata": {
            "needs_background": "light"
          }
        }
      ]
    },
    {
      "cell_type": "markdown",
      "source": [
        "### Calculamos el error cuadratico medio"
      ],
      "metadata": {
        "id": "Lxa_w_lWWUJ1"
      }
    },
    {
      "cell_type": "code",
      "source": [
        "#casteo a float en la función para que el output no sea una matriz\n",
        "ecm = float((1/len(dataset))*sum([(Y[i] - phi(dataset[i,0]))**2 for i in range(0,len(dataset))]))\n",
        "ecm"
      ],
      "metadata": {
        "colab": {
          "base_uri": "https://localhost:8080/"
        },
        "id": "9yeqjlUONeE1",
        "outputId": "981e52c8-01a1-4a66-995c-b4dc4fc8560a"
      },
      "execution_count": 43,
      "outputs": [
        {
          "output_type": "execute_result",
          "data": {
            "text/plain": [
              "8.953942751950358"
            ]
          },
          "metadata": {},
          "execution_count": 43
        }
      ]
    },
    {
      "cell_type": "markdown",
      "source": [
        "### Residual plot"
      ],
      "metadata": {
        "id": "lUUtfr-KhJf1"
      }
    },
    {
      "cell_type": "code",
      "source": [
        "#ordeno el dataset según poblacion para poder usarla como coordenada x\n",
        "dataset_como_lista = list(dataset)\n",
        "dataset_como_lista.sort(key = lambda row: row[0,0])\n",
        "dataset_ordenado = np.array(dataset_como_lista).reshape(len(dataset), 2)\n",
        "\n",
        "r_n = lambda n: float(dataset_ordenado[:,GANANCIAS][n] - phi(dataset_ordenado[:,POBLACION][n]))\n",
        "x_axis = dataset_ordenado[:,POBLACION]\n",
        "y_axis = np.array([r_n(n) for n in range(0,len(dataset))])\n",
        "plt.plot(x_axis,y_axis, 'bo')\n",
        "plt.plot(x_axis, np.zeros(len(dataset)), 'cyan')\n",
        "plt.xlabel(\"Observación\")\n",
        "plt.ylabel(\"Residuo de la observación\")\n",
        "plt.title(\"Residual plot del modelo\");"
      ],
      "metadata": {
        "id": "DenYxpOVhO6a",
        "outputId": "b5e591bc-7240-48f6-8e76-328dd1e03f4d",
        "colab": {
          "base_uri": "https://localhost:8080/",
          "height": 295
        }
      },
      "execution_count": 53,
      "outputs": [
        {
          "output_type": "display_data",
          "data": {
            "text/plain": [
              "<Figure size 432x288 with 1 Axes>"
            ],
            "image/png": "[encoded data removed]"
          },
          "metadata": {
            "needs_background": "light"
          }
        }
      ]
    },
    {
      "cell_type": "markdown",
      "source": [
        "Vemos que la recta es un buen fit pues el residuo tiende a acumularse en la recta $r_n = 0$ con la excepción de un par de outliers"
      ],
      "metadata": {
        "id": "HEZR2j-uoENi"
      }
    },
    {
      "cell_type": "markdown",
      "source": [
        "### Predicciones vs output verdadero"
      ],
      "metadata": {
        "id": "aKtVbdxnpEp8"
      }
    },
    {
      "cell_type": "code",
      "source": [
        "x_axis = np.copy(Y)\n",
        "y_axis = np.array([phi(dataset[:,POBLACION][n]) for n in range(0,len(dataset))])\n",
        "plt.plot(x_axis, x_axis, 'cyan')\n",
        "plt.plot(x_axis,y_axis, 'bo')\n",
        "plt.xlabel(\"Output real\")\n",
        "plt.ylabel(\"Predicción\")\n",
        "plt.title(\"Outputs verdaderas vs predicciones\");"
      ],
      "metadata": {
        "id": "Lyc8P3D1pHQH"
      },
      "execution_count": null,
      "outputs": []
    },
    {
      "cell_type": "markdown",
      "source": [
        "### Prediccion para 35k habitantes"
      ],
      "metadata": {
        "id": "fhjqVcI5WZ7_"
      }
    },
    {
      "cell_type": "code",
      "source": [
        "optimal_prediction = phi(35000)\n",
        "optimal_prediction"
      ],
      "metadata": {
        "id": "j_R3lC7ZWZiv"
      },
      "execution_count": null,
      "outputs": []
    },
    {
      "cell_type": "markdown",
      "source": [
        "3: Grafico del riesgo empirico para cada $(x,y) \\in \\mathbb{R}^2$"
      ],
      "metadata": {
        "id": "7PzX3MNPXC2y"
      }
    },
    {
      "cell_type": "code",
      "source": [
        "from matplotlib import cm\n",
        "\n",
        "def f(x, y):\n",
        "    \"\"\"\n",
        "    El objetivo de esta función es generalizar el cálculo del ECM para cualquier par (x,y) de reales,\n",
        "    en donde y es tomado como el bias y x es tomado como el weight. La salida, el ECM, es el riesgo\n",
        "    empírico del modelo.\n",
        "    \"\"\"\n",
        "    return (1/len(dataset))*sum([(dataset[i,POBLACION] - (y + x*dataset[i,GANANCIAS]))**2 for i in range(0,len(dataset))])\n",
        "\n",
        "#Toma 100 valores entre -4 y 4 para los ejes x,y\n",
        "x = np.linspace(-4, 4, 100)\n",
        "y = np.linspace(-4, 4, 100)\n",
        "\n",
        "# Crea un grid a partir de los ejes x,y\n",
        "X, Y = np.meshgrid(x, y)\n",
        "#Calcula el riesgo empírico para cada pareja x,y en el cuadrado [-4,4]x[-4,4]\n",
        "Z = f(X, Y)\n",
        "\n",
        "fig = plt.figure()\n",
        "ax = plt.axes(projection='3d')\n",
        "ax.contour3D(X, Y, Z, 1000, cmap=cm.coolwarm)\n",
        "ax.set_xlabel('x')\n",
        "ax.set_ylabel('y')\n",
        "ax.set_zlabel('z');\n",
        "\n"
      ],
      "metadata": {
        "id": "sL8Jm7WtNeHK"
      },
      "execution_count": null,
      "outputs": []
    },
    {
      "cell_type": "markdown",
      "source": [
        "### Usando la SVD"
      ],
      "metadata": {
        "id": "UVMNLdIM-Dbw"
      }
    },
    {
      "cell_type": "code",
      "source": [
        "u, s, vt = np.linalg.svd(X, full_matrices = False)\n",
        "seudoinverse = np.transpose(vt)@np.linalg.inv(np.diag(s))@np.transpose(u)"
      ],
      "metadata": {
        "id": "HexkGC8--Hse"
      },
      "execution_count": null,
      "outputs": []
    },
    {
      "cell_type": "code",
      "source": [
        "w = seudoinverse@Y"
      ],
      "metadata": {
        "id": "G2WY2j7e-H6m"
      },
      "execution_count": null,
      "outputs": []
    },
    {
      "cell_type": "code",
      "source": [
        "ecm = (1/len(dataset))*np.transpose((Y-X@w))@(Y-X@w)\n",
        "ecm"
      ],
      "metadata": {
        "id": "gk6eF-na-H9M"
      },
      "execution_count": null,
      "outputs": []
    },
    {
      "cell_type": "markdown",
      "source": [
        "### Estimación de la varianza del ruido $\\sigma^2$"
      ],
      "metadata": {
        "id": "o0QVLCLeB8I5"
      }
    },
    {
      "cell_type": "markdown",
      "source": [
        "El EMV de la varianza $\\sigma^2$ de nuestro modelo de la forma $\\mathcal{N}(w^Tx + b, \\sigma^2)$ es el ECM ya calculado anteriormente."
      ],
      "metadata": {
        "id": "_0EzURCc-H_t"
      }
    },
    {
      "cell_type": "markdown",
      "source": [
        "### Coeficiente de determinación"
      ],
      "metadata": {
        "id": "sYwiEcU4-ICB"
      }
    },
    {
      "cell_type": "markdown",
      "source": [
        "$R² = 1- \\frac{RSS}{TSS}$"
      ],
      "metadata": {
        "id": "rFCh6p7JCwGo"
      }
    },
    {
      "cell_type": "code",
      "source": [],
      "metadata": {
        "id": "qTeXpSt6CsCy"
      },
      "execution_count": null,
      "outputs": []
    },
    {
      "cell_type": "markdown",
      "source": [
        "##Usando tf"
      ],
      "metadata": {
        "id": "PYpVT9_UDUoy"
      }
    },
    {
      "cell_type": "code",
      "source": [
        "X = dataset[:,POBLACION]\n",
        "Y = dataset[:,GANANCIAS]"
      ],
      "metadata": {
        "id": "UXKuJvngkYBE"
      },
      "execution_count": null,
      "outputs": []
    },
    {
      "cell_type": "code",
      "source": [
        "model_1 = tf.keras.Sequential()\n",
        "model_1.add(tf.keras.layers.Dense(1, input_dim=1))\n",
        "model_1.summary()"
      ],
      "metadata": {
        "id": "bJX9GRj0DUqo"
      },
      "execution_count": null,
      "outputs": []
    },
    {
      "cell_type": "markdown",
      "source": [
        "### Con learning rate arbitrario"
      ],
      "metadata": {
        "id": "ma7zpuRaoKmw"
      }
    },
    {
      "cell_type": "code",
      "source": [
        "es = tf.keras.callbacks.EarlyStopping(monitor='loss', patience=1)\n",
        "model_1.compile(optimizer=tf.keras.optimizers.SGD(learning_rate=0.008),loss='MeanSquaredError')\n",
        "hist = model_1.fit(x=X, y=Y, batch_size = 97, epochs=100000,callbacks=[es]);"
      ],
      "metadata": {
        "id": "M4TSn-G0DUu5"
      },
      "execution_count": null,
      "outputs": []
    },
    {
      "cell_type": "markdown",
      "source": [
        "Se necesitaron alrededor de 1600 epochs para completar el entrenamiento"
      ],
      "metadata": {
        "id": "aMPziUFXyXdW"
      }
    },
    {
      "cell_type": "code",
      "source": [
        "param = model_1.get_weights()\n",
        "param"
      ],
      "metadata": {
        "id": "PRl5jU1-NArR"
      },
      "execution_count": null,
      "outputs": []
    },
    {
      "cell_type": "markdown",
      "source": [
        "Notamos que dio algo extremadamente similar al resultado analíticamente obtenido mediante cálculo de la seudoinversa"
      ],
      "metadata": {
        "id": "8ZPEV4qDyk6J"
      }
    },
    {
      "cell_type": "markdown",
      "source": [
        "### Entrenamiento de un segundo modelo idéntico, con learning rate optimo"
      ],
      "metadata": {
        "id": "IFOX6VOHNAuN"
      }
    },
    {
      "cell_type": "code",
      "source": [
        "eigenvalues,eigenvectors = np.linalg.eig(XtX)\n",
        "lambda_max = max(eigenvalues)\n",
        "lambda_min = min(eigenvalues)\n",
        "alpha_optimo = (len(dataset)/(lambda_max + lambda_min))\n",
        "alpha_optimo"
      ],
      "metadata": {
        "id": "6eEyD-quNAxA"
      },
      "execution_count": null,
      "outputs": []
    },
    {
      "cell_type": "code",
      "source": [
        "model_2 = tf.keras.Sequential()\n",
        "model_2.add(tf.keras.layers.Dense(1, input_dim=1))\n",
        "es = tf.keras.callbacks.EarlyStopping(monitor='loss', patience=1)\n",
        "model_2.compile(optimizer=tf.keras.optimizers.SGD(learning_rate=alpha_optimo),loss='MeanSquaredError')\n",
        "hist_2 = model_2.fit(x=X, y=Y, batch_size = 97, epochs=100000,callbacks=[es]);"
      ],
      "metadata": {
        "id": "UifIAk-_NAzV"
      },
      "execution_count": null,
      "outputs": []
    },
    {
      "cell_type": "markdown",
      "source": [
        "Con learning rate óptimo terminamos el entrenamiento en alrededor de 1300 epochs"
      ],
      "metadata": {
        "id": "mkiavk59zTQ0"
      }
    },
    {
      "cell_type": "markdown",
      "source": [
        "### Entrenamiento de un tercer modelo igual que los anteriores, pero normalizando las entradas y calculando el $\\alpha$ optimo"
      ],
      "metadata": {
        "id": "L-IwjXmPqdU7"
      }
    },
    {
      "cell_type": "code",
      "source": [
        "mu_k = np.mean(X)\n",
        "sigma_k = np.std(X)\n",
        "mu_k, sigma_k"
      ],
      "metadata": {
        "id": "Ece6MdXUqgX8"
      },
      "execution_count": null,
      "outputs": []
    },
    {
      "cell_type": "code",
      "source": [
        "X_normalized = np.array([(x-mu_k)/sigma_k for x in X]).reshape(len(X), 1)\n",
        "X_normalized = np.append(np.ones(len(dataset)).reshape(len(dataset),1), X_normalized)\n",
        "XtX_normalized = np.matmul(np.transpose(X), X)\n",
        "eigenvalues_normalized,eigenvectors_normalized = np.linalg.eig(XtX_normalized)\n",
        "lambda_max_normalized = max(eigenvalues_normalized)\n",
        "lambda_min_normalized = min(eigenvalues_normalized)\n",
        "alpha_optimo_normalized = (len(dataset)/(lambda_max_normalized + lambda_min_normalized))\n",
        "alpha_optimo_normalized"
      ],
      "metadata": {
        "id": "mp78ftBIqgzN"
      },
      "execution_count": null,
      "outputs": []
    },
    {
      "cell_type": "code",
      "source": [
        "model_3 = tf.keras.Sequential()\n",
        "model_3.add(tf.keras.layers.Dense(1, input_dim=1))\n",
        "es = tf.keras.callbacks.EarlyStopping(monitor='loss', patience=1)\n",
        "model_3.compile(optimizer=tf.keras.optimizers.SGD(learning_rate=alpha_optimo_normalized),loss='MeanSquaredError')\n",
        "hist_3 = model_3.fit(x=np.array([(x-mu_k)/sigma_k for x in X]).reshape(len(X), 1), y=Y, batch_size = 97, epochs=100000,callbacks=[es]);"
      ],
      "metadata": {
        "id": "XaQ65QtOqg2x"
      },
      "execution_count": null,
      "outputs": []
    },
    {
      "cell_type": "markdown",
      "source": [
        "Con normalización y learning rate óptimo terminamos el entrenamiento en alrededor de 550 epochs"
      ],
      "metadata": {
        "id": "0Y-SOLZRqg5h"
      }
    },
    {
      "cell_type": "code",
      "source": [
        "losses_1 = np.array(hist.history['loss'])\n",
        "losses_2 = np.array(hist_2.history['loss'])\n",
        "losses_3 = np.array(hist_3.history['loss'])"
      ],
      "metadata": {
        "id": "1gN2fxGjqg7r"
      },
      "execution_count": null,
      "outputs": []
    },
    {
      "cell_type": "markdown",
      "source": [
        "Plots de riesgo vs epochs en los 3 modelos entrenados"
      ],
      "metadata": {
        "id": "VPkhB8wd6drd"
      }
    },
    {
      "cell_type": "code",
      "source": [
        "x_axis_1 = np.arange(1,len(losses_1)+1,1)\n",
        "plt.plot(x_axis_1, losses_1)\n",
        "plt.xlabel(\"Epochs\")\n",
        "plt.ylabel(\"Riesgo\");"
      ],
      "metadata": {
        "id": "GNrG3xzk6eq8"
      },
      "execution_count": null,
      "outputs": []
    },
    {
      "cell_type": "code",
      "source": [
        "x_axis_2 = np.arange(1, len(losses_2)+1, 1)\n",
        "plt.plot(x_axis_2, losses_2)\n",
        "plt.xlabel(\"Epochs\")\n",
        "plt.ylabel(\"Riesgo\");"
      ],
      "metadata": {
        "id": "M4DcZkDU6evN"
      },
      "execution_count": null,
      "outputs": []
    },
    {
      "cell_type": "code",
      "source": [
        "x_axis_3 = np.arange(1, len(losses_3)+1, 1)\n",
        "plt.plot(x_axis_3, losses_3)\n",
        "plt.xlabel(\"Epochs\")\n",
        "plt.ylabel(\"Riesgo\");"
      ],
      "metadata": {
        "id": "3Z7OuW3_6eyS"
      },
      "execution_count": null,
      "outputs": []
    },
    {
      "cell_type": "code",
      "source": [
        "prediction = float(model_3.predict(x=np.array([(35000-mu_k)/sigma_k])))\n",
        "prediction"
      ],
      "metadata": {
        "id": "d2ZaLhPO6e1A"
      },
      "execution_count": null,
      "outputs": []
    },
    {
      "cell_type": "code",
      "source": [
        "abs(optimal_prediction - prediction)"
      ],
      "metadata": {
        "id": "V1U5zLIH6e4g"
      },
      "execution_count": null,
      "outputs": []
    },
    {
      "cell_type": "markdown",
      "source": [
        "Vemos que la diferencia entre la predicción obtenida por el regresor óptimo obtenido analíticamente y el modelo entrenado por GD es alrededor de 40 dólares, una diferencia pequeña teniendo en cuenta que estamos en las escala de las decenas de miles."
      ],
      "metadata": {
        "id": "ssCYyPEU9dlG"
      }
    },
    {
      "cell_type": "markdown",
      "source": [
        "# Dataset: Inmobiliaria"
      ],
      "metadata": {
        "id": "_bbK92S0BFzt"
      }
    },
    {
      "cell_type": "markdown",
      "source": [
        "## Extracción de los datos\n"
      ],
      "metadata": {
        "id": "SPQGDegqEGHt"
      }
    },
    {
      "cell_type": "code",
      "source": [
        "datos_inmobiliaria = pd.read_csv(\"https://raw.githubusercontent.com/CSC-CONICET/CURSO-LEARNING1/main/datasets/inmobiliaria.txt\")\n",
        "datos_inmobiliaria.loc[len(datos_inmobiliaria)] = [2104, 3, 399900]\n",
        "datos_inmobiliaria.columns = [\"Superficie\", \"Habitaciones\", \"Precio\"]\n",
        "datos_inmobiliaria.head()"
      ],
      "metadata": {
        "id": "HJ_ll4YWEMBT"
      },
      "execution_count": null,
      "outputs": []
    },
    {
      "cell_type": "markdown",
      "source": [
        "## A la vieja usanza"
      ],
      "metadata": {
        "id": "lUvHIWtMBMAV"
      }
    },
    {
      "cell_type": "code",
      "source": [
        "A_COLUMNA = (len(datos_inmobiliaria),1)\n",
        "datos_superficies = np.array(datos_inmobiliaria[\"Superficie\"]).reshape(A_COLUMNA)\n",
        "datos_habitaciones = np.array(datos_inmobiliaria[\"Habitaciones\"]).reshape(A_COLUMNA)\n",
        "Y = np.matrix(datos_inmobiliaria[\"Precio\"]).reshape(A_COLUMNA)"
      ],
      "metadata": {
        "id": "o5mrMj87BMaL"
      },
      "execution_count": null,
      "outputs": []
    },
    {
      "cell_type": "markdown",
      "source": [
        "### Calculo el regresor óptimo\n",
        "\n",
        "---\n",
        "\n"
      ],
      "metadata": {
        "id": "gG-Z0bia0dhk"
      }
    },
    {
      "cell_type": "code",
      "source": [
        "X = np.append(np.ones(len(datos_inmobiliaria)).reshape(A_COLUMNA), datos_superficies, axis=1)\n",
        "X = np.append(X, datos_habitaciones, axis=1) "
      ],
      "metadata": {
        "id": "ePGCpDixEQrO"
      },
      "execution_count": null,
      "outputs": []
    },
    {
      "cell_type": "code",
      "source": [
        "XtX = np.matmul(np.transpose(X), X)\n",
        "seudoinversa = np.matmul(np.linalg.inv(XtX), np.transpose(X))"
      ],
      "metadata": {
        "id": "_4qjECMeEQ1B"
      },
      "execution_count": null,
      "outputs": []
    },
    {
      "cell_type": "code",
      "source": [
        "w = np.matmul(seudoinversa, Y)\n",
        "b = w[0,0]\n",
        "w_1 = w[1,0]\n",
        "w_2 = w[2,0]\n",
        "phi = lambda x: b + w_1*x[0] + w_2*x[1]\n",
        "w"
      ],
      "metadata": {
        "id": "-7BWXlfnEQ4j"
      },
      "execution_count": null,
      "outputs": []
    },
    {
      "cell_type": "code",
      "source": [
        "optimal_prediction = phi(np.array([[1650],[3]]))\n",
        "optimal_prediction"
      ],
      "metadata": {
        "id": "uaba5RrlEQ8u"
      },
      "execution_count": null,
      "outputs": []
    },
    {
      "cell_type": "markdown",
      "source": [
        "### Plot del plano de regresión y scatterplot"
      ],
      "metadata": {
        "id": "TTGti8sJdi8e"
      }
    },
    {
      "cell_type": "code",
      "source": [
        "def f(x, y):\n",
        "    return b + w_1*x + w_2*y\n",
        "\n",
        "fig = plt.figure()\n",
        "ax = fig.add_subplot(projection='3d')\n",
        "ax.scatter(datos_superficies, datos_habitaciones, Y)\n",
        "fig.set_size_inches(10, 10)\n",
        "\n",
        "xx, yy = np.meshgrid(range(5000), range(5))\n",
        "z = f(xx,yy)\n",
        "ax.plot_surface(xx, yy, z, alpha=0.5)\n",
        "ax.view_init(15, 80)\n",
        "\n",
        "ax.set_xlabel('Superficie')\n",
        "ax.set_ylabel('Cantidad de habitaciones')\n",
        "plt.show()"
      ],
      "metadata": {
        "id": "E63_4_gwJ5z1"
      },
      "execution_count": null,
      "outputs": []
    },
    {
      "cell_type": "markdown",
      "source": [
        "### Cálculo del ECM"
      ],
      "metadata": {
        "id": "epKUgCNCJ6O7"
      }
    },
    {
      "cell_type": "code",
      "source": [
        "ecm = float((1/len(datos_inmobiliaria))* \\\n",
        "            sum([(Y[i] - phi([datos_superficies[i], datos_habitaciones[i]]))**2 for i in range(0,len(datos_inmobiliaria))]))\n",
        "ecm"
      ],
      "metadata": {
        "id": "2Yhc0Ou_sNfd"
      },
      "execution_count": null,
      "outputs": []
    },
    {
      "cell_type": "markdown",
      "source": [
        "Nota: creo que es demasiado grande. Checkear mejor luego de entrenar el modelo con tf. Posibles razones de que sea tan grande: Los datos son fuertemente no lineales, pocos datos (no debería ser muy significante en realidad), error mío de cálculo o en el ecm o antes (espero que no). También es obvio que un error \"pequeño\" acá como del un 10% de diferencia entre el valor real y predicción significa un aumento considerable del ecm por las simples magnitudes de los números."
      ],
      "metadata": {
        "id": "ov5EgEggvcWy"
      }
    },
    {
      "cell_type": "markdown",
      "source": [
        "Nota2: Underfitting en acción?"
      ],
      "metadata": {
        "id": "2Dq4uDB6kRra"
      }
    },
    {
      "cell_type": "markdown",
      "source": [
        "Nota3: Entrenar el modelo en Keras me dio lo mismo así que debe estar bien"
      ],
      "metadata": {
        "id": "F5Oc9Cw4jggi"
      }
    },
    {
      "cell_type": "code",
      "source": [
        "phi([datos_superficies[0], datos_habitaciones[0]]), Y[0]"
      ],
      "metadata": {
        "id": "fFzULUCLwLwL"
      },
      "execution_count": null,
      "outputs": []
    },
    {
      "cell_type": "markdown",
      "source": [
        "## Usando tf"
      ],
      "metadata": {
        "id": "4Oc3dp99BMdL"
      }
    },
    {
      "cell_type": "code",
      "source": [
        "#normalizo los datos\n",
        "mu_superficies, mu_habitaciones = np.mean(X[:,1]), np.mean(X[:,2])\n",
        "sigma_superficies, sigma_habitaciones = np.std(X[:,1]), np.std(X[:,2])\n",
        "datos_superficies_norm = ((X[:,1] - mu_superficies)/sigma_superficies).reshape(A_COLUMNA)\n",
        "datos_habitaciones_norm = ((X[:,2] - mu_habitaciones)/sigma_habitaciones).reshape(A_COLUMNA)\n",
        "X_norm = np.append(np.ones(len(datos_inmobiliaria)).reshape(A_COLUMNA), datos_superficies_norm, axis=1)\n",
        "X_norm = np.append(X_norm, datos_habitaciones_norm, axis=1)\n",
        "#calculo lambda óptimo\n",
        "XntXn = np.matmul(np.transpose(X_norm), X_norm)\n",
        "eigenvalues,eigenvectors = np.linalg.eig(XntXn)\n",
        "lambda_max = max(eigenvalues)\n",
        "lambda_min = min(eigenvalues)\n",
        "alpha_optimo = len(datos_inmobiliaria)/(lambda_max+lambda_min)\n",
        "alpha_optimo"
      ],
      "metadata": {
        "id": "zIBc5FbPVmWR"
      },
      "execution_count": null,
      "outputs": []
    },
    {
      "cell_type": "code",
      "source": [
        "#creamos el modelo y los inputs\n",
        "inputs = np.append(datos_superficies_norm, datos_habitaciones_norm, axis=1)\n",
        "model = tf.keras.Sequential()\n",
        "model.add(tf.keras.layers.Dense(1, input_dim=2))\n",
        "model.summary()"
      ],
      "metadata": {
        "id": "LSbDsgMHBMgN"
      },
      "execution_count": null,
      "outputs": []
    },
    {
      "cell_type": "code",
      "source": [
        "#entrenamos el modelo\n",
        "es = tf.keras.callbacks.EarlyStopping(monitor='loss', patience=1)\n",
        "model.compile(optimizer=tf.keras.optimizers.SGD(learning_rate=alpha_optimo),loss='MeanSquaredError')\n",
        "hist = model.fit(x=inputs, y=Y, batch_size = len(datos_inmobiliaria), epochs=100000,callbacks=[es]);"
      ],
      "metadata": {
        "id": "IHgQ1DYMBM6r"
      },
      "execution_count": null,
      "outputs": []
    },
    {
      "cell_type": "code",
      "source": [
        "normalize = lambda x,mu,sigma : (x-mu)/sigma\n",
        "\n",
        "#esta función agarra dos inputs y las normaliza, y formatea a un vector fila de dos columnas\n",
        "as_input = lambda sup,hab :\\\n",
        "  np.array([normalize(sup,mu_superficies, sigma_superficies),normalize(hab,mu_habitaciones, sigma_habitaciones)]).reshape(1,2)\n",
        "\n",
        "prediction_after_GD = float(model.predict(x=as_input(1650,3)))\n",
        "abs(prediction_after_GD-optimal_prediction)"
      ],
      "metadata": {
        "id": "QgVuNiC3dE5i"
      },
      "execution_count": null,
      "outputs": []
    },
    {
      "cell_type": "markdown",
      "source": [
        "Notamos dos cosas: El ecm usando el regresor óptimo, y el ecm tras entrenar el modelo mediante GD, son prácticamente iguales. Lo mismo con la predicción."
      ],
      "metadata": {
        "id": "U3FH3l4SjAtY"
      }
    }
  ]
}