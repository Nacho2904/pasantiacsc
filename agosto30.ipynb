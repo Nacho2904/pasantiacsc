{
  "nbformat": 4,
  "nbformat_minor": 0,
  "metadata": {
    "colab": {
      "name": "agosto30.ipynb",
      "provenance": [],
      "collapsed_sections": [],
      "authorship_tag": "ABX9TyMhXlqnp8hK8yqHJDNUCkPT",
      "include_colab_link": true
    },
    "kernelspec": {
      "name": "python3",
      "display_name": "Python 3"
    },
    "language_info": {
      "name": "python"
    }
  },
  "cells": [
    {
      "cell_type": "markdown",
      "metadata": {
        "id": "view-in-github",
        "colab_type": "text"
      },
      "source": [
        "<a href=\"https://colab.research.google.com/github/Nacho2904/pasantiacsc/blob/main/agosto30.ipynb\" target=\"_parent\"><img src=\"https://colab.research.google.com/assets/colab-badge.svg\" alt=\"Open In Colab\"/></a>"
      ]
    },
    {
      "cell_type": "markdown",
      "source": [
        "1) Encontrar la solución óptima invirtiendo la matriz, calcular el ECM y graficar la regresión elegida sobre un scatter plot / hecho\n",
        "\n",
        "2) Predecir ganancias para 35.000 habitantes\n",
        "\n",
        "3opt) Graficar el problema de optimización en 3-D (bias - weight y Risk) para todos los theta posibles"
      ],
      "metadata": {
        "id": "x3pf_78fF5ui"
      }
    },
    {
      "cell_type": "code",
      "source": [
        "import numpy as np\n",
        "import tensorflow as tf\n",
        "import matplotlib.pyplot as plt\n",
        "GANANCIAS = 1\n",
        "POBLACION = 0"
      ],
      "metadata": {
        "id": "ON3s0jy8BLyt"
      },
      "execution_count": 110,
      "outputs": []
    },
    {
      "cell_type": "markdown",
      "source": [
        "# A la vieja usanza"
      ],
      "metadata": {
        "id": "MR_MvnnPL_ZQ"
      }
    },
    {
      "cell_type": "code",
      "source": [
        "from urllib import request\n",
        "example1_url=\"https://raw.githubusercontent.com/CSC-CONICET/CURSO-LEARNING1/main/datasets/mc.txt\"\n",
        "f = request.urlopen(example1_url)\n",
        "dataset = np.matrix(np.loadtxt(f, dtype=float, delimiter=\",\"))\n",
        "#separamos el dataset usando 80/20"
      ],
      "metadata": {
        "id": "V-CeZMhDDUaB"
      },
      "execution_count": 99,
      "outputs": []
    },
    {
      "cell_type": "code",
      "source": [
        "  # separamos las ganancias del dataset\n",
        "  Y = dataset[:,GANANCIAS]\n",
        "  Y"
      ],
      "metadata": {
        "id": "r_3K33FpDUdZ",
        "colab": {
          "base_uri": "https://localhost:8080/"
        },
        "outputId": "b11ef975-0d3c-44a4-aadc-1056d6e82a28"
      },
      "execution_count": 100,
      "outputs": [
        {
          "output_type": "execute_result",
          "data": {
            "text/plain": [
              "matrix([[17.592  ],\n",
              "        [ 9.1302 ],\n",
              "        [13.662  ],\n",
              "        [11.854  ],\n",
              "        [ 6.8233 ],\n",
              "        [11.886  ],\n",
              "        [ 4.3483 ],\n",
              "        [12.     ],\n",
              "        [ 6.5987 ],\n",
              "        [ 3.8166 ],\n",
              "        [ 3.2522 ],\n",
              "        [15.505  ],\n",
              "        [ 3.1551 ],\n",
              "        [ 7.2258 ],\n",
              "        [ 0.71618],\n",
              "        [ 3.5129 ],\n",
              "        [ 5.3048 ],\n",
              "        [ 0.56077],\n",
              "        [ 3.6518 ],\n",
              "        [ 5.3893 ],\n",
              "        [ 3.1386 ],\n",
              "        [21.767  ],\n",
              "        [ 4.263  ],\n",
              "        [ 5.1875 ],\n",
              "        [ 3.0825 ],\n",
              "        [22.638  ],\n",
              "        [13.501  ],\n",
              "        [ 7.0467 ],\n",
              "        [14.692  ],\n",
              "        [24.147  ],\n",
              "        [-1.22   ],\n",
              "        [ 5.9966 ],\n",
              "        [12.134  ],\n",
              "        [ 1.8495 ],\n",
              "        [ 6.5426 ],\n",
              "        [ 4.5623 ],\n",
              "        [ 4.1164 ],\n",
              "        [ 3.3928 ],\n",
              "        [10.117  ],\n",
              "        [ 5.4974 ],\n",
              "        [ 0.55657],\n",
              "        [ 3.9115 ],\n",
              "        [ 5.3854 ],\n",
              "        [ 2.4406 ],\n",
              "        [ 6.7318 ],\n",
              "        [ 1.0463 ],\n",
              "        [ 5.1337 ],\n",
              "        [ 1.844  ],\n",
              "        [ 8.0043 ],\n",
              "        [ 1.0179 ],\n",
              "        [ 6.7504 ],\n",
              "        [ 1.8396 ],\n",
              "        [ 4.2885 ],\n",
              "        [ 4.9981 ],\n",
              "        [ 1.4233 ],\n",
              "        [-1.4211 ],\n",
              "        [ 2.4756 ],\n",
              "        [ 4.6042 ],\n",
              "        [ 3.9624 ],\n",
              "        [ 5.4141 ],\n",
              "        [ 5.1694 ],\n",
              "        [-0.74279],\n",
              "        [17.929  ],\n",
              "        [12.054  ],\n",
              "        [17.054  ],\n",
              "        [ 4.8852 ],\n",
              "        [ 5.7442 ],\n",
              "        [ 7.7754 ],\n",
              "        [ 1.0173 ],\n",
              "        [20.992  ],\n",
              "        [ 6.6799 ],\n",
              "        [ 4.0259 ],\n",
              "        [ 1.2784 ],\n",
              "        [ 3.3411 ],\n",
              "        [-2.6807 ],\n",
              "        [ 0.29678],\n",
              "        [ 3.8845 ],\n",
              "        [ 5.7014 ],\n",
              "        [ 6.7526 ],\n",
              "        [ 2.0576 ],\n",
              "        [ 0.47953],\n",
              "        [ 0.20421],\n",
              "        [ 0.67861],\n",
              "        [ 7.5435 ],\n",
              "        [ 5.3436 ],\n",
              "        [ 4.2415 ],\n",
              "        [ 6.7981 ],\n",
              "        [ 0.92695],\n",
              "        [ 0.152  ],\n",
              "        [ 2.8214 ],\n",
              "        [ 1.8451 ],\n",
              "        [ 4.2959 ],\n",
              "        [ 7.2029 ],\n",
              "        [ 1.9869 ],\n",
              "        [ 0.14454],\n",
              "        [ 9.0551 ],\n",
              "        [ 0.61705]])"
            ]
          },
          "metadata": {},
          "execution_count": 100
        }
      ]
    },
    {
      "cell_type": "code",
      "source": [
        "#Separamos la matrix X de inputs del dataset y le anadimos la columna de unos\n",
        "population = dataset[:,0]\n",
        "X = np.append(np.ones(len(dataset)).reshape(len(dataset),1), dataset[:,POBLACION], axis=1)\n",
        "X"
      ],
      "metadata": {
        "id": "Dy2N-LjJDUgI",
        "colab": {
          "base_uri": "https://localhost:8080/"
        },
        "outputId": "d92ff78f-6d66-48ab-e221-eb4e178b6b97"
      },
      "execution_count": 101,
      "outputs": [
        {
          "output_type": "execute_result",
          "data": {
            "text/plain": [
              "matrix([[ 1.    ,  6.1101],\n",
              "        [ 1.    ,  5.5277],\n",
              "        [ 1.    ,  8.5186],\n",
              "        [ 1.    ,  7.0032],\n",
              "        [ 1.    ,  5.8598],\n",
              "        [ 1.    ,  8.3829],\n",
              "        [ 1.    ,  7.4764],\n",
              "        [ 1.    ,  8.5781],\n",
              "        [ 1.    ,  6.4862],\n",
              "        [ 1.    ,  5.0546],\n",
              "        [ 1.    ,  5.7107],\n",
              "        [ 1.    , 14.164 ],\n",
              "        [ 1.    ,  5.734 ],\n",
              "        [ 1.    ,  8.4084],\n",
              "        [ 1.    ,  5.6407],\n",
              "        [ 1.    ,  5.3794],\n",
              "        [ 1.    ,  6.3654],\n",
              "        [ 1.    ,  5.1301],\n",
              "        [ 1.    ,  6.4296],\n",
              "        [ 1.    ,  7.0708],\n",
              "        [ 1.    ,  6.1891],\n",
              "        [ 1.    , 20.27  ],\n",
              "        [ 1.    ,  5.4901],\n",
              "        [ 1.    ,  6.3261],\n",
              "        [ 1.    ,  5.5649],\n",
              "        [ 1.    , 18.945 ],\n",
              "        [ 1.    , 12.828 ],\n",
              "        [ 1.    , 10.957 ],\n",
              "        [ 1.    , 13.176 ],\n",
              "        [ 1.    , 22.203 ],\n",
              "        [ 1.    ,  5.2524],\n",
              "        [ 1.    ,  6.5894],\n",
              "        [ 1.    ,  9.2482],\n",
              "        [ 1.    ,  5.8918],\n",
              "        [ 1.    ,  8.2111],\n",
              "        [ 1.    ,  7.9334],\n",
              "        [ 1.    ,  8.0959],\n",
              "        [ 1.    ,  5.6063],\n",
              "        [ 1.    , 12.836 ],\n",
              "        [ 1.    ,  6.3534],\n",
              "        [ 1.    ,  5.4069],\n",
              "        [ 1.    ,  6.8825],\n",
              "        [ 1.    , 11.708 ],\n",
              "        [ 1.    ,  5.7737],\n",
              "        [ 1.    ,  7.8247],\n",
              "        [ 1.    ,  7.0931],\n",
              "        [ 1.    ,  5.0702],\n",
              "        [ 1.    ,  5.8014],\n",
              "        [ 1.    , 11.7   ],\n",
              "        [ 1.    ,  5.5416],\n",
              "        [ 1.    ,  7.5402],\n",
              "        [ 1.    ,  5.3077],\n",
              "        [ 1.    ,  7.4239],\n",
              "        [ 1.    ,  7.6031],\n",
              "        [ 1.    ,  6.3328],\n",
              "        [ 1.    ,  6.3589],\n",
              "        [ 1.    ,  6.2742],\n",
              "        [ 1.    ,  5.6397],\n",
              "        [ 1.    ,  9.3102],\n",
              "        [ 1.    ,  9.4536],\n",
              "        [ 1.    ,  8.8254],\n",
              "        [ 1.    ,  5.1793],\n",
              "        [ 1.    , 21.279 ],\n",
              "        [ 1.    , 14.908 ],\n",
              "        [ 1.    , 18.959 ],\n",
              "        [ 1.    ,  7.2182],\n",
              "        [ 1.    ,  8.2951],\n",
              "        [ 1.    , 10.236 ],\n",
              "        [ 1.    ,  5.4994],\n",
              "        [ 1.    , 20.341 ],\n",
              "        [ 1.    , 10.136 ],\n",
              "        [ 1.    ,  7.3345],\n",
              "        [ 1.    ,  6.0062],\n",
              "        [ 1.    ,  7.2259],\n",
              "        [ 1.    ,  5.0269],\n",
              "        [ 1.    ,  6.5479],\n",
              "        [ 1.    ,  7.5386],\n",
              "        [ 1.    ,  5.0365],\n",
              "        [ 1.    , 10.274 ],\n",
              "        [ 1.    ,  5.1077],\n",
              "        [ 1.    ,  5.7292],\n",
              "        [ 1.    ,  5.1884],\n",
              "        [ 1.    ,  6.3557],\n",
              "        [ 1.    ,  9.7687],\n",
              "        [ 1.    ,  6.5159],\n",
              "        [ 1.    ,  8.5172],\n",
              "        [ 1.    ,  9.1802],\n",
              "        [ 1.    ,  6.002 ],\n",
              "        [ 1.    ,  5.5204],\n",
              "        [ 1.    ,  5.0594],\n",
              "        [ 1.    ,  5.7077],\n",
              "        [ 1.    ,  7.6366],\n",
              "        [ 1.    ,  5.8707],\n",
              "        [ 1.    ,  5.3054],\n",
              "        [ 1.    ,  8.2934],\n",
              "        [ 1.    , 13.394 ],\n",
              "        [ 1.    ,  5.4369]])"
            ]
          },
          "metadata": {},
          "execution_count": 101
        }
      ]
    },
    {
      "cell_type": "markdown",
      "source": [
        "Calculamos la seudoinversa mediante la formula derivada"
      ],
      "metadata": {
        "id": "HMNgvE-BQyB2"
      }
    },
    {
      "cell_type": "code",
      "source": [
        "seudoinversa = np.matmul(np.linalg.inv(np.matmul(np.transpose(X), X)), np.transpose(X))"
      ],
      "metadata": {
        "id": "GNpvsdomDUko"
      },
      "execution_count": 102,
      "outputs": []
    },
    {
      "cell_type": "markdown",
      "source": [
        "Finalmente, calculamos los pesos "
      ],
      "metadata": {
        "id": "L6MJzTwxNdke"
      }
    },
    {
      "cell_type": "code",
      "source": [
        "w = np.matmul(seudoinversa, Y)\n",
        "w"
      ],
      "metadata": {
        "colab": {
          "base_uri": "https://localhost:8080/"
        },
        "id": "HKXXOTCONd2l",
        "outputId": "a1c0e5d7-5944-4b12-f30b-c69a331af124"
      },
      "execution_count": 104,
      "outputs": [
        {
          "output_type": "execute_result",
          "data": {
            "text/plain": [
              "matrix([[-3.89578088],\n",
              "        [ 1.19303364]])"
            ]
          },
          "metadata": {},
          "execution_count": 104
        }
      ]
    },
    {
      "cell_type": "code",
      "source": [
        "phi = lambda x: float(w[0,0] + w[1,0]*x)"
      ],
      "metadata": {
        "id": "hk8eL4T1Nd71"
      },
      "execution_count": 135,
      "outputs": []
    },
    {
      "cell_type": "code",
      "source": [
        "xaxis = np.arange(0, 25, 0.01)\n",
        "yaxis = np.array([phi(x) for x in xaxis])\n",
        "plt.plot(xaxis, yaxis)\n",
        "plt.scatter(np.array(dataset[:,POBLACION]),np.array(dataset[:,GANANCIAS]), c='c')"
      ],
      "metadata": {
        "colab": {
          "base_uri": "https://localhost:8080/",
          "height": 282
        },
        "id": "_hNvteCINd_K",
        "outputId": "0dde7e27-a794-4fe8-9a26-3f8209bc4ffd"
      },
      "execution_count": 138,
      "outputs": [
        {
          "output_type": "execute_result",
          "data": {
            "text/plain": [
              "<matplotlib.collections.PathCollection at 0x7fe5efe06650>"
            ]
          },
          "metadata": {},
          "execution_count": 138
        },
        {
          "output_type": "display_data",
          "data": {
            "text/plain": [
              "<Figure size 432x288 with 1 Axes>"
            ],
            "image/png": "[encoded data removed]"
          },
          "metadata": {
            "needs_background": "light"
          }
        }
      ]
    },
    {
      "cell_type": "markdown",
      "source": [
        "### Calculamos el error cuadratico medio"
      ],
      "metadata": {
        "id": "Lxa_w_lWWUJ1"
      }
    },
    {
      "cell_type": "code",
      "source": [
        "ecm = float((1/len(dataset))*sum([(Y[i] - phi(dataset[i,0]))**2 for i in range(0,len(dataset))]))\n",
        "ecm"
      ],
      "metadata": {
        "colab": {
          "base_uri": "https://localhost:8080/"
        },
        "id": "9yeqjlUONeE1",
        "outputId": "19176bf2-757e-4483-d172-cb56ec293457"
      },
      "execution_count": 142,
      "outputs": [
        {
          "output_type": "execute_result",
          "data": {
            "text/plain": [
              "8.953942751950358"
            ]
          },
          "metadata": {},
          "execution_count": 142
        }
      ]
    },
    {
      "cell_type": "markdown",
      "source": [
        "## Prediccion para 35k habitantes"
      ],
      "metadata": {
        "id": "fhjqVcI5WZ7_"
      }
    },
    {
      "cell_type": "code",
      "source": [
        "phi(35000)"
      ],
      "metadata": {
        "colab": {
          "base_uri": "https://localhost:8080/"
        },
        "id": "j_R3lC7ZWZiv",
        "outputId": "6253d6dd-92a5-42e5-af5d-bfec5cff7eb3"
      },
      "execution_count": 143,
      "outputs": [
        {
          "output_type": "execute_result",
          "data": {
            "text/plain": [
              "41752.28176575754"
            ]
          },
          "metadata": {},
          "execution_count": 143
        }
      ]
    },
    {
      "cell_type": "code",
      "source": [],
      "metadata": {
        "id": "sL8Jm7WtNeHK"
      },
      "execution_count": null,
      "outputs": []
    },
    {
      "cell_type": "markdown",
      "source": [
        "#Usando tf"
      ],
      "metadata": {
        "id": "PYpVT9_UDUoy"
      }
    },
    {
      "cell_type": "code",
      "source": [
        "model = tf.keras.Sequential()\n",
        "model.add(tf.keras.layers.Dense(1, input_dim=1))"
      ],
      "metadata": {
        "id": "bJX9GRj0DUqo"
      },
      "execution_count": null,
      "outputs": []
    },
    {
      "cell_type": "code",
      "source": [
        "es = tf.keras.callbacks.EarlyStopping(monitor='loss', patience=1)\n",
        "model.compile(optimizer=tf.keras.optimizers.SGD(learning_rate=5),loss='MeanSquaredError')\n",
        "hist = model.fit(x=population, y=Y, batch_size = 10, epochs=100000,callbacks=[es]) #elegimos un gran numero de epochs para que solo corte por convergencia\n"
      ],
      "metadata": {
        "id": "M4TSn-G0DUu5",
        "colab": {
          "base_uri": "https://localhost:8080/"
        },
        "outputId": "47233f7e-47d1-47f8-b874-2bd1d7d0e7e8"
      },
      "execution_count": 59,
      "outputs": [
        {
          "output_type": "stream",
          "name": "stdout",
          "text": [
            "Epoch 1/100000\n",
            "10/10 [==============================] - 1s 2ms/step - loss: inf\n",
            "Epoch 2/100000\n",
            "10/10 [==============================] - 0s 4ms/step - loss: nan\n"
          ]
        }
      ]
    },
    {
      "cell_type": "code",
      "source": [
        "losses = np.array(hist.history['loss'])"
      ],
      "metadata": {
        "id": "-XBw-N7xDUw4"
      },
      "execution_count": 60,
      "outputs": []
    },
    {
      "cell_type": "code",
      "source": [
        "param = model.get_weights()\n",
        "param"
      ],
      "metadata": {
        "colab": {
          "base_uri": "https://localhost:8080/"
        },
        "id": "XX5KwUhENAZ2",
        "outputId": "24e66bbf-9435-4654-cdac-c0af5ed92c11"
      },
      "execution_count": 62,
      "outputs": [
        {
          "output_type": "execute_result",
          "data": {
            "text/plain": [
              "[array([[nan]], dtype=float32), array([nan], dtype=float32)]"
            ]
          },
          "metadata": {},
          "execution_count": 62
        }
      ]
    },
    {
      "cell_type": "code",
      "source": [
        "prediction = model.predict(x=np.array(?))"
      ],
      "metadata": {
        "id": "GJw6JPxKNAoO"
      },
      "execution_count": null,
      "outputs": []
    },
    {
      "cell_type": "code",
      "source": [],
      "metadata": {
        "id": "PRl5jU1-NArR"
      },
      "execution_count": null,
      "outputs": []
    },
    {
      "cell_type": "code",
      "source": [],
      "metadata": {
        "id": "IFOX6VOHNAuN"
      },
      "execution_count": null,
      "outputs": []
    },
    {
      "cell_type": "code",
      "source": [],
      "metadata": {
        "id": "6eEyD-quNAxA"
      },
      "execution_count": null,
      "outputs": []
    },
    {
      "cell_type": "code",
      "source": [],
      "metadata": {
        "id": "UifIAk-_NAzV"
      },
      "execution_count": null,
      "outputs": []
    }
  ]
}